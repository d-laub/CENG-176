{
 "cells": [
  {
   "cell_type": "markdown",
   "metadata": {},
   "source": [
    "# Cooling Tower Data Analysis\n",
    "### Importing libraries"
   ]
  },
  {
   "cell_type": "code",
   "execution_count": 1,
   "metadata": {},
   "outputs": [],
   "source": [
    "import pandas as pd\n",
    "import numpy as np\n",
    "import scipy.integrate as intgr\n",
    "from scipy.optimize import curve_fit\n",
    "import matplotlib.pyplot as plt\n",
    "import seaborn as sns\n",
    "from uncertainties import ufloat"
   ]
  },
  {
   "cell_type": "markdown",
   "metadata": {},
   "source": [
    "### General equations\n",
    "Defined as many functions as possible. i.e. Those that won't change.\n",
    "* $hsat$: Enthalpy of saturated air, form for fit equation\n",
    "* $Fah2Cel$: Convert Fahrenheit to Celsius\n",
    "* $BTUpound2kJkg$: Convert $\\frac{BTU}{lb}$ to $\\frac{kJ}{kg}$"
   ]
  },
  {
   "cell_type": "code",
   "execution_count": 2,
   "metadata": {},
   "outputs": [],
   "source": [
    "def hsat(T, a, b):\n",
    "    return a*np.exp(b*T)\n",
    "def Fah2Cel(T):\n",
    "    return (T-32)*5/9\n",
    "def BTUpound2kJkg(x):\n",
    "    return x*2.326"
   ]
  },
  {
   "cell_type": "markdown",
   "metadata": {},
   "source": [
    "### Fitting $hsat$ and plotting result"
   ]
  },
  {
   "cell_type": "code",
   "execution_count": 3,
   "metadata": {},
   "outputs": [],
   "source": [
    "# Empirical/fit data\n",
    "hs_T = np.array([40, 50, 60, 70, 80, 90, 100, 110, 120, 130]) # F\n",
    "hs_h = np.array([15.230, 20.301, 26.46, 34.09, 43.69, 55.93, 71.73, 92.34, 119.54, 155.9]) # BTU/lb dry air\n",
    "\n",
    "hs_T = Fah2Cel(hs_T)\n",
    "hs_h = BTUpound2kJkg(hs_h)\n",
    "\n",
    "# Fitting procedure\n",
    "hsat_fit, hsat_cov = curve_fit(hsat, hs_T, hs_h, [0, 0])\n",
    "fit_err = np.sqrt(np.diagonal(hsat_cov))\n",
    "\n",
    "# Get fitted curve\n",
    "hs_Tdata = np.linspace(hs_T[0], hs_T[-1], 100)\n",
    "hs_hdata = hsat(hs_Tdata, *hsat_fit)\n",
    "hs_h_errp = hsat(hs_Tdata, *(hsat_fit+fit_err))\n",
    "hs_h_errn = hsat(hs_Tdata, *(hsat_fit-fit_err))"
   ]
  },
  {
   "cell_type": "code",
   "execution_count": 4,
   "metadata": {},
   "outputs": [
    {
     "name": "stdout",
     "output_type": "stream",
     "text": [
      "hsat Fit:\n",
      "h_s = a e^bT\n",
      "a = 29.54+/-0.33\n",
      "b = 0.05+/-0.00\n",
      "r^2 = 1.00\n"
     ]
    },
    {
     "data": {
      "image/png": "[encoded data removed]",
      "text/plain": [
       "<Figure size 432x432 with 1 Axes>"
      ]
     },
     "metadata": {
      "needs_background": "light"
     },
     "output_type": "display_data"
    }
   ],
   "source": [
    "# Plot data and fitted curve\n",
    "plt.figure(1, figsize=[6, 6])\n",
    "plt.plot(hs_T, hs_h, 'b.')\n",
    "plt.plot(hs_Tdata, hs_hdata, 'r-', linewidth=.5)\n",
    "plt.xlabel('Temperature $^\\circ$C')\n",
    "plt.ylabel('h$_s$ kJ/kg dry air')\n",
    "plt.legend(labels=['data', 'fit'])\n",
    "plt.fill_between(hs_Tdata, hs_h_errp, hs_h_errn, color='r', alpha=0.3)\n",
    "ax = plt.gca()\n",
    "ax.set_aspect(1.0/ax.get_data_ratio())\n",
    "plt.savefig('Figures\\hsat fit.png', dpi=300)\n",
    "\n",
    "# Print gof\n",
    "res = hs_h-hsat(hs_T, *hsat_fit)\n",
    "sst = hs_h-hs_h.mean()\n",
    "SSres = np.sum(res**2)\n",
    "SStot = np.sum(sst**2)\n",
    "r2 = 1 - (SSres/SStot)\n",
    "a = ufloat(hsat_fit[0], fit_err[0])\n",
    "b = ufloat(hsat_fit[1], fit_err[1])\n",
    "hsat_gof = f'hsat Fit:\\nh_s = a e^bT\\na = {a:.2f}\\nb = {b:.2f}\\nr^2 = {r2:.2f}'\n",
    "print(hsat_gof)"
   ]
  },
  {
   "cell_type": "markdown",
   "metadata": {},
   "source": [
    "### Define air operating-line, Merkel equation, and power law fit\n",
    "Now that $hsat$ is fitted, $enthalpy$ and $merkel$ can be defined\\\n",
    "It is also useful to have the power law defined for fitting"
   ]
  },
  {
   "cell_type": "code",
   "execution_count": 5,
   "metadata": {},
   "outputs": [],
   "source": [
    "def enthalpy(T, Tin, Tout, LG):\n",
    "    # Cp water = 4.182 kJ/kg C\n",
    "    # Tout = Outlet water temperature [Celsius]\n",
    "    # T = Water Temp [Celsius]\n",
    "    # Tin = Wet bulb temperature in [Celsius]\n",
    "    hin = hsat(Tin, *hsat_fit)\n",
    "    h = hin + LG * 4.182 * (T-Tout)\n",
    "    return h # [kJ/kg]\n",
    "def merkel(T, Tin, Tout, LG):\n",
    "    h = enthalpy(T, Tin, Tout, LG)\n",
    "    hs = hsat(T, *hsat_fit)\n",
    "    return 4.182/(hs-h)"
   ]
  },
  {
   "cell_type": "markdown",
   "metadata": {},
   "source": [
    "## Data preprocessing"
   ]
  },
  {
   "cell_type": "markdown",
   "metadata": {},
   "source": [
    "### Units\n",
    "|  | Set Point Temp | Gas Flow | Liquid Flow | Outlet Water | Inlet Water | Outlet Air - Dry Bulb | Outlet Air - Wet Bulb | Inlet Air - Wet Bulb | Inlet Air - Dry Bulb |\n",
    "|--------|----------------|----------|-------------|--------------|-------------|-----------------------|-----------------------|----------------------|----------------------|\n",
    "| Raw | $^\\circ$ C | m/s | gal/min | $^\\circ$ C | $^\\circ$ C | $^\\circ$ C | $^\\circ$ C | $^\\circ$ C | $^\\circ$ C |\n",
    "| Desired | $^\\circ$ C | kg/s | kg/s | $^\\circ$ C | $^\\circ$ C | $^\\circ$ C | $^\\circ$ C | $^\\circ$ C | $^\\circ$ C |\n",
    "\n",
    "Most units can be readily converted to the desired output, with the exception of gas flow. Converting gas flow in m/s to kg/s requires the find the density of the inlet air, which is humid.\n",
    "\n",
    "Perry's Handbook: Find saturation vapor pressure $p_{wb}$ at wet-bulb temperature $T_{wb}$ from Eq. (12-4). Find actual vapor\n",
    "pressure $p$ at dry-bulb temperature $T$ from psychrometer equation (12-11). Find humid air density $\\rho_g$ by\n",
    "conversion from $p$ and $T$ (Table 12-2). All units in SI.\n",
    "\n",
    "**12-4:** $\\ln p_{wb} = −6096.9385T_{wb}^{−1} + 21.2409642 − 2.711193\\times10^{−2}T_{wb} + 1.673952\\times10^{−5}T_{wb}^2 + 2.433502 \\ln T_{wb}$\n",
    "\n",
    "where $T_{wb}$ is in Kelvin, $p_{wb}$ is in pascals.\n",
    "\n",
    "**12-11:** $p = p_{wb} − AP(T − T_{wb})$\n",
    "\n",
    "where $A$ is the psychrometric coefficient and $P$ is atmosphere pressure in Pa.\n",
    "\n",
    "**12-11a:** $A = 6.5\\times10^{−4}(1 + 0.000944T_{wb})$\n",
    "\n",
    "Eq. 12-11a is valid for $T_{wb}$ up to 30 $^\\circ$C.\n",
    "\n",
    "**Table 12-2**: $\\rho_g = \\frac{P-0.378p}{287.1T}$\n",
    "\n",
    "where $\\rho_g$ is the humid air density (kg/m^3).\n",
    "\n",
    "For Day 1 of this lab, Feb. 12, 2020, atmospheric pressure $P$ was 30.12 \"Hg."
   ]
  },
  {
   "cell_type": "code",
   "execution_count": 6,
   "metadata": {},
   "outputs": [],
   "source": [
    "def get_rho(T, T_wb, day):\n",
    "    # T = Inlet Air - Dry Bulb [Kelvin]\n",
    "    # T_wb = Inlet Air - Wet Bulb [Kelvin]\n",
    "    # P = 30.12 \"Hg on Day 1 = 101998.03 Pa\n",
    "    T = T+273.15 # convert Celsius to Kelvin\n",
    "    T_wb = T_wb+273.15 # convert...\n",
    "    if day == 1:\n",
    "        P = 101998.03\n",
    "    else:\n",
    "        P = 101862.57\n",
    "    p_wb = np.exp(-6096.9385*T_wb**-1 + \\\n",
    "                  21.2409642 - 2.711193*10**-2*T_wb + \\\n",
    "                  1.673952*10**-5*T_wb**2 + \\\n",
    "                  2.433502*np.log(T_wb))\n",
    "    A = 6.5*10**-4*(1 + 0.000944*T_wb)\n",
    "    p = p_wb - A*P*(T - T_wb)\n",
    "    rho = (P-0.378*p)/(287.1*T)\n",
    "    return rho\n",
    "\n",
    "def get_ma(v, T, T_wb, day):\n",
    "    rho = get_rho(T, T_wb, day) # kg/m^3\n",
    "    V = v*np.pi/4*0.095**2 # m^3/s\n",
    "    return rho*V # kg/s"
   ]
  },
  {
   "cell_type": "markdown",
   "metadata": {},
   "source": [
    "### Error propagation functions"
   ]
  },
  {
   "cell_type": "code",
   "execution_count": 7,
   "metadata": {},
   "outputs": [],
   "source": [
    "# dx denotes error of x\n",
    "\n",
    "def Terr(T):\n",
    "    return np.where(0.04*T > 0.5, 0.04*T, 0.5)\n",
    "\n",
    "def Lerr(L):\n",
    "    return 0.02*2\n",
    "\n",
    "def Gerr(G):\n",
    "    return np.where(0.03*G > 0.2, 0.03*G, 0.2)\n",
    "\n",
    "def LGerr(L, G, dL, dG):\n",
    "    # LG = L/G => 1/G, -L/G^2\n",
    "    pL = 1/G\n",
    "    pG = -1*L/G**2\n",
    "    return np.sqrt(pL**2*dL**2 + pG**2*dG**2)\n",
    "\n",
    "def Gerr2(v, T, T_wb, dv, dT, dT_wb, day):\n",
    "    T = T+273.15\n",
    "    T_wb = T_wb+273.15\n",
    "    if day == 1:\n",
    "        P = 101998.03\n",
    "    else:\n",
    "        P = 101862.57\n",
    "    p_wb = np.exp(-6096.9385*T_wb**-1 + \\\n",
    "                  21.2409642 - 2.711193*10**-2*T_wb + \\\n",
    "                  1.673952*10**-5*T_wb**2 + \\\n",
    "                  2.433502*np.log(T_wb))\n",
    "    A = 6.5*10**-4*(1 + 0.000944*T_wb)\n",
    "    p = p_wb - A*P*(T - T_wb)\n",
    "    rho = (P-0.378*p)/(287.1*T)\n",
    "    V = v*np.pi/4*0.095**2 # m^3/s\n",
    "    dp_wb = (6096.9385/T_wb**2 - \\\n",
    "                2.711193*10**-2 + \\\n",
    "                2*1.673952*10**-5*T_wb + \\\n",
    "                2.433502/T_wb)*p_wb*dT_wb\n",
    "    dA = 6.5*10**-4*0.000944*dT_wb\n",
    "    dp = np.sqrt(dp_wb**2 + \\\n",
    "                 (-P*(T - T_wb))**2*dA**2 + \\\n",
    "                 (A*P)**2*dT**2 + \\\n",
    "                 (A*P)**2*dT_wb**2\n",
    "                )\n",
    "    drho = np.sqrt((0.378/(287.1*T))**2*dp**2 + \\\n",
    "                   ((P-0.378*p)/(287.1*T**2))**2*dT**2\n",
    "                  )\n",
    "    dV = np.sqrt((np.pi/4*0.095**2)**2*dv**2 + \\\n",
    "                 (2*v*np.pi/4*0.095)**2*0.005**2\n",
    "                )\n",
    "    dG = np.sqrt(V**2*drho**2 + \\\n",
    "                 rho**2*dV**2\n",
    "                )\n",
    "    return dG"
   ]
  },
  {
   "cell_type": "markdown",
   "metadata": {},
   "source": [
    "### Import and clean data\n",
    "I had combined all the data from day 1 and added two columns, Group and Trial. These columns ended up being trivial as the liquid flow sufficed to group the data. I then aggregated by liquid flow and calculated means and standard deviations, compiling these values in a new dataframe.\n",
    "### Get NTU and error\n",
    "Used larger of two between instrument error and standard deviation of measurements."
   ]
  },
  {
   "cell_type": "code",
   "execution_count": 8,
   "metadata": {
    "scrolled": true
   },
   "outputs": [],
   "source": [
    "df1 = pd.read_csv(\"Cooling Tower Day 1 - All.csv\")\n",
    "df2 = pd.read_csv(\"Cooling Tower Day 2 - All.csv\")\n",
    "df1.insert(0, 'Day', 1)\n",
    "df2.insert(0, 'Day', 2)\n",
    "df = df1.append(df2)\n",
    "\n",
    "# Drop extra columns\n",
    "df = df.drop(columns=['Trial'])\n",
    "\n",
    "# Convert L and G and get L/G\n",
    "df['Liquid Flow'] = df['Liquid Flow'].apply(lambda x: x*6.30902*10**-5*997)\n",
    "df['Gas Flow'] = df.apply(lambda x: get_ma(x['Gas Flow'],\n",
    "                                           x['Inlet Air - Dry Bulb'],\n",
    "                                           x['Inlet Air - Wet Bulb'],\n",
    "                                           x['Day']\n",
    "                                          ),\n",
    "                          axis=1\n",
    "                         )\n",
    "df['L/G'] = df['Liquid Flow']/df['Gas Flow']\n",
    "\n",
    "# Calculate NTU\n",
    "NTU = df.apply(lambda x: intgr.quad(merkel, x['Outlet Water'], x['Inlet Water'],\n",
    "                                   args=(x['Inlet Air - Wet Bulb'], x['Outlet Water'], x['L/G'])),\n",
    "             axis=1)\n",
    "df['NTU'] = NTU.apply(lambda x: x[0])\n",
    "\n",
    "# Temperature errors\n",
    "rawlist = ['Outlet Water', 'Inlet Water', 'Outlet Air - Dry Bulb', 'Outlet Air - Wet Bulb', 'Inlet Air - Wet Bulb', 'Inlet Air - Dry Bulb']\n",
    "errlist = ['Outlet Water - err', 'Inlet Water - err', 'Outlet Air - Dry Bulb - err', 'Outlet Air - Wet Bulb - err', 'Inlet Air - Wet Bulb - err', 'Inlet Air - Dry Bulb - err']\n",
    "for raw, err in zip(rawlist, errlist):\n",
    "    df[err] = Terr(df[raw])\n",
    "\n",
    "# Flow errors\n",
    "df['Liquid Flow - err'] = Lerr(df['Liquid Flow'])\n",
    "df['Liquid Flow - err'] = df['Liquid Flow - err'].apply(lambda x: x*6.30902*10**-5*997)\n",
    "df['Gas Flow - err'] = Gerr(df['Gas Flow'])\n",
    "df['Gas Flow - err'] = df.apply(lambda x: Gerr2(x['Gas Flow'],\n",
    "                                                x['Inlet Air - Dry Bulb'],\n",
    "                                                x['Inlet Air - Wet Bulb'],\n",
    "                                                x['Gas Flow - err'],\n",
    "                                                x['Inlet Air - Dry Bulb - err'],\n",
    "                                                x['Inlet Air - Wet Bulb - err'],\n",
    "                                                x['Day']\n",
    "                                               ),\n",
    "                                axis=1\n",
    "                               )\n",
    "df['L/G - err'] = LGerr(df['Liquid Flow'], df['Gas Flow'], df['Liquid Flow - err'], df['Gas Flow - err'])\n",
    "\n",
    "# Aggregate for mean and err\n",
    "df_agg = df.groupby('Group').mean().reset_index()\n",
    "df_NTUerr = df.groupby('Group').std().reset_index(drop=True)\n",
    "df_NTUerr = df_NTUerr['NTU'].rename('NTU - err')\n",
    "\n",
    "# Recombine\n",
    "df_agg = pd.concat([df_agg, df_NTUerr], axis=1)\n",
    "\n",
    "# Done using Day\n",
    "df_agg.drop(columns='Day', inplace=True)\n",
    "\n",
    "# df.iloc[73:]['Gas Flow'].unique()"
   ]
  },
  {
   "cell_type": "markdown",
   "metadata": {},
   "source": [
    "### Calculate NTU and plot"
   ]
  },
  {
   "cell_type": "code",
   "execution_count": 9,
   "metadata": {},
   "outputs": [],
   "source": [
    "g1 = df_agg[(df_agg['Set Point Temp'] == 45) & (df_agg['Gas Flow'] < 0.017)].reset_index(drop=True)\n",
    "g2 = df_agg[(df_agg['Set Point Temp'] == 45) & (df_agg['Gas Flow'] > 0.017) & (df_agg['Gas Flow'] < 0.034)].reset_index(drop=True)\n",
    "g3 = df_agg[(df_agg['Set Point Temp'] == 45) & (df_agg['Gas Flow'] > 0.034) & (df_agg['Gas Flow'] < 0.062)].reset_index(drop=True)\n",
    "g4 = df_agg[(df_agg['Set Point Temp'] == 35) & (df_agg['Gas Flow'] < 0.018)].reset_index(drop=True)\n",
    "g5 = df_agg[(df_agg['Set Point Temp'] == 35) & (df_agg['Gas Flow'] > 0.018) & (df_agg['Gas Flow'] < 0.035)].reset_index(drop=True)\n",
    "g6 = df_agg[(df_agg['Set Point Temp'] == 35) & (df_agg['Gas Flow'] > 0.035) & (df_agg['Gas Flow'] < 0.068)].reset_index(drop=True)\n",
    "# for g in [g1, g2, g3, g4, g5, g6]:\n",
    "#     print(len(g.index))"
   ]
  },
  {
   "cell_type": "code",
   "execution_count": 10,
   "metadata": {
    "scrolled": true
   },
   "outputs": [
    {
     "data": {
      "image/png": "[encoded data removed]",
      "text/plain": [
       "<Figure size 432x432 with 1 Axes>"
      ]
     },
     "metadata": {
      "needs_background": "light"
     },
     "output_type": "display_data"
    }
   ],
   "source": [
    "plt.figure(2, figsize=[6, 6])\n",
    "Gs = []\n",
    "for g in [g1, g2, g3]:\n",
    "    plt.errorbar(g['L/G'], g['NTU'], g['NTU - err'], g['L/G - err'], fmt='.', elinewidth=.5, capsize=2)\n",
    "    plt.xlabel('L/G ratio')\n",
    "    plt.ylabel('NTU')\n",
    "    Gs.append(g['Gas Flow'].mean()*10**3)\n",
    "plt.legend(labels=[f'G = {Gs[0]:.2f} g/s', f'G = {Gs[1]:.2f} g/s', f'G = {Gs[2]:.2f} g/s'])\n",
    "# ax = plt.gca()\n",
    "# ax.set_xscale('log')\n",
    "# ax.set_yscale('log')\n",
    "plt.savefig('Figures\\SP 45 NTU v LG.png', dpi=300)\n",
    "# plt.show()"
   ]
  },
  {
   "cell_type": "code",
   "execution_count": 11,
   "metadata": {},
   "outputs": [
    {
     "data": {
      "image/png": "[encoded data removed]",
      "text/plain": [
       "<Figure size 432x432 with 1 Axes>"
      ]
     },
     "metadata": {
      "needs_background": "light"
     },
     "output_type": "display_data"
    }
   ],
   "source": [
    "plt.figure(3, figsize=[6, 6])\n",
    "Gs = []\n",
    "for g in [g4, g5, g6]:\n",
    "    plt.errorbar(g['L/G'], g['NTU'], g['NTU - err'], g['L/G - err'], fmt='.', elinewidth=.5, capsize=2)\n",
    "    plt.xlabel('L/G ratio')\n",
    "    plt.ylabel('NTU')\n",
    "    Gs.append(g['Gas Flow'].mean()*10**3)\n",
    "plt.legend(labels=[f'G = {Gs[0]:.2f} g/s', f'G = {Gs[1]:.2f} g/s', f'G = {Gs[2]:.2f} g/s'])\n",
    "# ax = plt.gca()\n",
    "# ax.set_xscale('log')\n",
    "# ax.set_yscale('log')\n",
    "plt.savefig('Figures\\SP 35 NTU v LG.png', dpi=300)\n",
    "# plt.show()"
   ]
  },
  {
   "cell_type": "markdown",
   "metadata": {},
   "source": [
    "### Fitting NTU vs. L/G"
   ]
  },
  {
   "cell_type": "code",
   "execution_count": 12,
   "metadata": {},
   "outputs": [],
   "source": [
    "def NTULGfit(LG, a, b):\n",
    "    return a*LG**b"
   ]
  },
  {
   "cell_type": "code",
   "execution_count": 13,
   "metadata": {},
   "outputs": [
    {
     "data": {
      "text/html": [
       "<div>\n",
       "<style scoped>\n",
       "    .dataframe tbody tr th:only-of-type {\n",
       "        vertical-align: middle;\n",
       "    }\n",
       "\n",
       "    .dataframe tbody tr th {\n",
       "        vertical-align: top;\n",
       "    }\n",
       "\n",
       "    .dataframe thead th {\n",
       "        text-align: right;\n",
       "    }\n",
       "</style>\n",
       "<table border=\"1\" class=\"dataframe\">\n",
       "  <thead>\n",
       "    <tr style=\"text-align: right;\">\n",
       "      <th></th>\n",
       "      <th>Group</th>\n",
       "      <th>Set Point Temp</th>\n",
       "      <th>Gas Flow</th>\n",
       "      <th>Liquid Flow</th>\n",
       "      <th>Outlet Water</th>\n",
       "      <th>Inlet Water</th>\n",
       "      <th>Outlet Air - Dry Bulb</th>\n",
       "      <th>Outlet Air - Wet Bulb</th>\n",
       "      <th>Inlet Air - Wet Bulb</th>\n",
       "      <th>Inlet Air - Dry Bulb</th>\n",
       "      <th>...</th>\n",
       "      <th>Outlet Water - err</th>\n",
       "      <th>Inlet Water - err</th>\n",
       "      <th>Outlet Air - Dry Bulb - err</th>\n",
       "      <th>Outlet Air - Wet Bulb - err</th>\n",
       "      <th>Inlet Air - Wet Bulb - err</th>\n",
       "      <th>Inlet Air - Dry Bulb - err</th>\n",
       "      <th>Liquid Flow - err</th>\n",
       "      <th>Gas Flow - err</th>\n",
       "      <th>L/G - err</th>\n",
       "      <th>NTU - err</th>\n",
       "    </tr>\n",
       "  </thead>\n",
       "  <tbody>\n",
       "    <tr>\n",
       "      <th>0</th>\n",
       "      <td>1</td>\n",
       "      <td>45</td>\n",
       "      <td>0.016904</td>\n",
       "      <td>0.012580</td>\n",
       "      <td>31.433333</td>\n",
       "      <td>45.633333</td>\n",
       "      <td>32.800000</td>\n",
       "      <td>31.733333</td>\n",
       "      <td>14.833333</td>\n",
       "      <td>20.500000</td>\n",
       "      <td>...</td>\n",
       "      <td>1.257333</td>\n",
       "      <td>1.825333</td>\n",
       "      <td>1.312000</td>\n",
       "      <td>1.269333</td>\n",
       "      <td>0.593333</td>\n",
       "      <td>0.820000</td>\n",
       "      <td>0.002516</td>\n",
       "      <td>0.001708</td>\n",
       "      <td>0.166754</td>\n",
       "      <td>0.013436</td>\n",
       "    </tr>\n",
       "    <tr>\n",
       "      <th>1</th>\n",
       "      <td>2</td>\n",
       "      <td>45</td>\n",
       "      <td>0.016902</td>\n",
       "      <td>0.025160</td>\n",
       "      <td>34.466667</td>\n",
       "      <td>45.500000</td>\n",
       "      <td>36.833333</td>\n",
       "      <td>35.833333</td>\n",
       "      <td>14.666667</td>\n",
       "      <td>20.566667</td>\n",
       "      <td>...</td>\n",
       "      <td>1.378667</td>\n",
       "      <td>1.820000</td>\n",
       "      <td>1.473333</td>\n",
       "      <td>1.433333</td>\n",
       "      <td>0.586667</td>\n",
       "      <td>0.822667</td>\n",
       "      <td>0.002516</td>\n",
       "      <td>0.001707</td>\n",
       "      <td>0.211589</td>\n",
       "      <td>0.008399</td>\n",
       "    </tr>\n",
       "    <tr>\n",
       "      <th>2</th>\n",
       "      <td>3</td>\n",
       "      <td>45</td>\n",
       "      <td>0.016899</td>\n",
       "      <td>0.037741</td>\n",
       "      <td>36.700000</td>\n",
       "      <td>46.533333</td>\n",
       "      <td>39.533333</td>\n",
       "      <td>39.066667</td>\n",
       "      <td>14.633333</td>\n",
       "      <td>20.633333</td>\n",
       "      <td>...</td>\n",
       "      <td>1.468000</td>\n",
       "      <td>1.861333</td>\n",
       "      <td>1.581333</td>\n",
       "      <td>1.562667</td>\n",
       "      <td>0.585333</td>\n",
       "      <td>0.825333</td>\n",
       "      <td>0.002516</td>\n",
       "      <td>0.001707</td>\n",
       "      <td>0.270296</td>\n",
       "      <td>0.005773</td>\n",
       "    </tr>\n",
       "    <tr>\n",
       "      <th>3</th>\n",
       "      <td>4</td>\n",
       "      <td>45</td>\n",
       "      <td>0.016910</td>\n",
       "      <td>0.050321</td>\n",
       "      <td>38.133333</td>\n",
       "      <td>47.500000</td>\n",
       "      <td>41.333333</td>\n",
       "      <td>41.000000</td>\n",
       "      <td>14.733333</td>\n",
       "      <td>20.400000</td>\n",
       "      <td>...</td>\n",
       "      <td>1.525333</td>\n",
       "      <td>1.900000</td>\n",
       "      <td>1.653333</td>\n",
       "      <td>1.640000</td>\n",
       "      <td>0.589333</td>\n",
       "      <td>0.816000</td>\n",
       "      <td>0.002516</td>\n",
       "      <td>0.001708</td>\n",
       "      <td>0.335405</td>\n",
       "      <td>0.018890</td>\n",
       "    </tr>\n",
       "    <tr>\n",
       "      <th>4</th>\n",
       "      <td>5</td>\n",
       "      <td>45</td>\n",
       "      <td>0.016899</td>\n",
       "      <td>0.062901</td>\n",
       "      <td>39.200000</td>\n",
       "      <td>45.566667</td>\n",
       "      <td>41.700000</td>\n",
       "      <td>41.333333</td>\n",
       "      <td>14.900000</td>\n",
       "      <td>20.566667</td>\n",
       "      <td>...</td>\n",
       "      <td>1.568000</td>\n",
       "      <td>1.822667</td>\n",
       "      <td>1.668000</td>\n",
       "      <td>1.653333</td>\n",
       "      <td>0.596000</td>\n",
       "      <td>0.822667</td>\n",
       "      <td>0.002516</td>\n",
       "      <td>0.001707</td>\n",
       "      <td>0.404389</td>\n",
       "      <td>0.008396</td>\n",
       "    </tr>\n",
       "    <tr>\n",
       "      <th>5</th>\n",
       "      <td>6</td>\n",
       "      <td>45</td>\n",
       "      <td>0.016895</td>\n",
       "      <td>0.075481</td>\n",
       "      <td>39.933333</td>\n",
       "      <td>45.366667</td>\n",
       "      <td>41.800000</td>\n",
       "      <td>41.766667</td>\n",
       "      <td>15.133333</td>\n",
       "      <td>20.600000</td>\n",
       "      <td>...</td>\n",
       "      <td>1.597333</td>\n",
       "      <td>1.814667</td>\n",
       "      <td>1.672000</td>\n",
       "      <td>1.670667</td>\n",
       "      <td>0.605333</td>\n",
       "      <td>0.824000</td>\n",
       "      <td>0.002516</td>\n",
       "      <td>0.001707</td>\n",
       "      <td>0.475241</td>\n",
       "      <td>0.006310</td>\n",
       "    </tr>\n",
       "    <tr>\n",
       "      <th>6</th>\n",
       "      <td>7</td>\n",
       "      <td>45</td>\n",
       "      <td>0.016891</td>\n",
       "      <td>0.088061</td>\n",
       "      <td>40.333333</td>\n",
       "      <td>45.466667</td>\n",
       "      <td>42.333333</td>\n",
       "      <td>42.266667</td>\n",
       "      <td>15.300000</td>\n",
       "      <td>20.633333</td>\n",
       "      <td>...</td>\n",
       "      <td>1.613333</td>\n",
       "      <td>1.818667</td>\n",
       "      <td>1.693333</td>\n",
       "      <td>1.690667</td>\n",
       "      <td>0.612000</td>\n",
       "      <td>0.825333</td>\n",
       "      <td>0.002516</td>\n",
       "      <td>0.001706</td>\n",
       "      <td>0.547300</td>\n",
       "      <td>0.004509</td>\n",
       "    </tr>\n",
       "    <tr>\n",
       "      <th>7</th>\n",
       "      <td>8</td>\n",
       "      <td>45</td>\n",
       "      <td>0.016888</td>\n",
       "      <td>0.094351</td>\n",
       "      <td>40.833333</td>\n",
       "      <td>45.166667</td>\n",
       "      <td>42.466667</td>\n",
       "      <td>42.400000</td>\n",
       "      <td>15.400000</td>\n",
       "      <td>20.666667</td>\n",
       "      <td>...</td>\n",
       "      <td>1.633333</td>\n",
       "      <td>1.806667</td>\n",
       "      <td>1.698667</td>\n",
       "      <td>1.696000</td>\n",
       "      <td>0.616000</td>\n",
       "      <td>0.826667</td>\n",
       "      <td>0.002516</td>\n",
       "      <td>0.001706</td>\n",
       "      <td>0.583689</td>\n",
       "      <td>0.007518</td>\n",
       "    </tr>\n",
       "  </tbody>\n",
       "</table>\n",
       "<p>8 rows × 22 columns</p>\n",
       "</div>"
      ],
      "text/plain": [
       "   Group  Set Point Temp  Gas Flow  Liquid Flow  Outlet Water  Inlet Water  \\\n",
       "0      1              45  0.016904     0.012580     31.433333    45.633333   \n",
       "1      2              45  0.016902     0.025160     34.466667    45.500000   \n",
       "2      3              45  0.016899     0.037741     36.700000    46.533333   \n",
       "3      4              45  0.016910     0.050321     38.133333    47.500000   \n",
       "4      5              45  0.016899     0.062901     39.200000    45.566667   \n",
       "5      6              45  0.016895     0.075481     39.933333    45.366667   \n",
       "6      7              45  0.016891     0.088061     40.333333    45.466667   \n",
       "7      8              45  0.016888     0.094351     40.833333    45.166667   \n",
       "\n",
       "   Outlet Air - Dry Bulb  Outlet Air - Wet Bulb  Inlet Air - Wet Bulb  \\\n",
       "0              32.800000              31.733333             14.833333   \n",
       "1              36.833333              35.833333             14.666667   \n",
       "2              39.533333              39.066667             14.633333   \n",
       "3              41.333333              41.000000             14.733333   \n",
       "4              41.700000              41.333333             14.900000   \n",
       "5              41.800000              41.766667             15.133333   \n",
       "6              42.333333              42.266667             15.300000   \n",
       "7              42.466667              42.400000             15.400000   \n",
       "\n",
       "   Inlet Air - Dry Bulb  ...  Outlet Water - err  Inlet Water - err  \\\n",
       "0             20.500000  ...            1.257333           1.825333   \n",
       "1             20.566667  ...            1.378667           1.820000   \n",
       "2             20.633333  ...            1.468000           1.861333   \n",
       "3             20.400000  ...            1.525333           1.900000   \n",
       "4             20.566667  ...            1.568000           1.822667   \n",
       "5             20.600000  ...            1.597333           1.814667   \n",
       "6             20.633333  ...            1.613333           1.818667   \n",
       "7             20.666667  ...            1.633333           1.806667   \n",
       "\n",
       "   Outlet Air - Dry Bulb - err  Outlet Air - Wet Bulb - err  \\\n",
       "0                     1.312000                     1.269333   \n",
       "1                     1.473333                     1.433333   \n",
       "2                     1.581333                     1.562667   \n",
       "3                     1.653333                     1.640000   \n",
       "4                     1.668000                     1.653333   \n",
       "5                     1.672000                     1.670667   \n",
       "6                     1.693333                     1.690667   \n",
       "7                     1.698667                     1.696000   \n",
       "\n",
       "   Inlet Air - Wet Bulb - err  Inlet Air - Dry Bulb - err  Liquid Flow - err  \\\n",
       "0                    0.593333                    0.820000           0.002516   \n",
       "1                    0.586667                    0.822667           0.002516   \n",
       "2                    0.585333                    0.825333           0.002516   \n",
       "3                    0.589333                    0.816000           0.002516   \n",
       "4                    0.596000                    0.822667           0.002516   \n",
       "5                    0.605333                    0.824000           0.002516   \n",
       "6                    0.612000                    0.825333           0.002516   \n",
       "7                    0.616000                    0.826667           0.002516   \n",
       "\n",
       "   Gas Flow - err  L/G - err  NTU - err  \n",
       "0        0.001708   0.166754   0.013436  \n",
       "1        0.001707   0.211589   0.008399  \n",
       "2        0.001707   0.270296   0.005773  \n",
       "3        0.001708   0.335405   0.018890  \n",
       "4        0.001707   0.404389   0.008396  \n",
       "5        0.001707   0.475241   0.006310  \n",
       "6        0.001706   0.547300   0.004509  \n",
       "7        0.001706   0.583689   0.007518  \n",
       "\n",
       "[8 rows x 22 columns]"
      ]
     },
     "execution_count": 13,
     "metadata": {},
     "output_type": "execute_result"
    }
   ],
   "source": [
    "df_agg.iloc[0:8]"
   ]
  },
  {
   "cell_type": "code",
   "execution_count": 14,
   "metadata": {},
   "outputs": [
    {
     "name": "stdout",
     "output_type": "stream",
     "text": [
      "Best fit:\n",
      "NTU = a*(L/G)^b\n",
      "a = 0.71+/-0.08\n",
      "b = -0.70+/-0.13\n",
      "r^2 = 0.9214601237542961\n"
     ]
    },
    {
     "data": {
      "image/png": "[encoded data removed]",
      "text/plain": [
       "<Figure size 432x432 with 1 Axes>"
      ]
     },
     "metadata": {
      "needs_background": "light"
     },
     "output_type": "display_data"
    }
   ],
   "source": [
    "# Get Fit\n",
    "LGweights = 1/(df_agg['L/G - err']/np.mean(df_agg['L/G - err'])+\\\n",
    "               (df_agg['NTU - err']/np.mean(df_agg['NTU - err'])))\n",
    "LGfit, LGcov = curve_fit(NTULGfit, df_agg['L/G'], df_agg['NTU'],\n",
    "                        sigma = LGweights,\n",
    "                        absolute_sigma = True)\n",
    "LGfit_err = np.sqrt(np.diagonal(LGcov))\n",
    "\n",
    "# Fit Curve\n",
    "LGfitx = np.sort(df['L/G'])\n",
    "LGfity = NTULGfit(LGfitx, *LGfit)\n",
    "LGfiterrp = NTULGfit(LGfitx, *(LGfit+LGfit_err))\n",
    "LGfiterrn = NTULGfit(LGfitx, *(LGfit-LGfit_err))\n",
    "\n",
    "# Report goodness of fit\n",
    "LGfit_a = ufloat(LGfit[0], LGfit_err[0])\n",
    "LGfit_b = ufloat(LGfit[1], LGfit_err[1])\n",
    "res = df_agg['NTU']-NTULGfit(df_agg['L/G'], *LGfit)\n",
    "ss_res = np.sum(LGweights*(df['NTU'] - NTULGfit(df['L/G'], *LGfit))**2)\n",
    "ss_tot = np.sum(LGweights*(df['NTU'] - df['NTU'].mean())**2)\n",
    "LGfit_r2 = 1 - (ss_res/ss_tot)\n",
    "LGfit_gof = f\"Best fit:\\nNTU = a*(L/G)^b\\na = {LGfit_a}\\nb = {LGfit_b}\\nr^2 = {LGfit_r2}\"\n",
    "print(LGfit_gof)\n",
    "\n",
    "# Plot Fit and Data\n",
    "plt.figure(3, figsize=[6, 6])\n",
    "plt.errorbar(df_agg['L/G'], df_agg['NTU'], df_agg['NTU - err'], df_agg['L/G - err'], 'ok',\n",
    "             markersize=3, markerfacecolor='w', label='data',\n",
    "             elinewidth=1\n",
    "            )\n",
    "plt.plot(LGfitx, LGfity, 'r-', label='fit')\n",
    "plt.xlabel('L/G')\n",
    "plt.ylabel('NTU')\n",
    "plt.legend()\n",
    "\n",
    "ax = plt.gca()\n",
    "# ax.set_xscale('log'); ax.set_yscale('log')\n",
    "ax.fill_between(LGfitx, LGfiterrp, LGfiterrn, color='r', alpha=0.3)\n",
    "# from matplotlib.ticker import ScalarFormatter\n",
    "# for axis in [ax.xaxis, ax.yaxis]:\n",
    "#     axis.set_major_formatter(ScalarFormatter())\n",
    "plt.savefig(r'Figures\\NTU v LG Fit.png', dpi=300)\n",
    "# plt.show()"
   ]
  },
  {
   "cell_type": "markdown",
   "metadata": {},
   "source": [
    "### Plotting NTU vs. L/G with a delT color map"
   ]
  },
  {
   "cell_type": "code",
   "execution_count": 15,
   "metadata": {
    "scrolled": true
   },
   "outputs": [
    {
     "data": {
      "image/png": "[encoded data removed]",
      "text/plain": [
       "<Figure size 504x432 with 2 Axes>"
      ]
     },
     "metadata": {
      "needs_background": "light"
     },
     "output_type": "display_data"
    }
   ],
   "source": [
    "delT = df['Inlet Water']-df['Outlet Water']\n",
    "plt.figure(4, figsize=[7, 6])\n",
    "plt.scatter(df['L/G'], df['NTU'], c=delT, cmap='hot', s=30, edgecolor='k', linewidths=.5)\n",
    "cbar = plt.colorbar()\n",
    "cbar.set_label('$\\Delta T_W$')\n",
    "plt.xlabel('L/G')\n",
    "plt.ylabel('NTU')\n",
    "plt.savefig(r'Figures\\NTU v LG colorbar Overlay.png', dpi=300)"
   ]
  },
  {
   "cell_type": "code",
   "execution_count": 16,
   "metadata": {},
   "outputs": [],
   "source": [
    "g1a = df[(df['Set Point Temp'] == 45) & (df['Gas Flow'] < 0.017)].reset_index(drop=True)\n",
    "g2a = df[(df['Set Point Temp'] == 45) & (df['Gas Flow'] > 0.017) & (df['Gas Flow'] < 0.034)].reset_index(drop=True)\n",
    "g3a = df[(df['Set Point Temp'] == 45) & (df['Gas Flow'] > 0.034) & (df['Gas Flow'] < 0.062)].reset_index(drop=True)\n",
    "g4a = df[(df['Set Point Temp'] == 35) & (df['Gas Flow'] < 0.018)].reset_index(drop=True)\n",
    "g5a = df[(df['Set Point Temp'] == 35) & (df['Gas Flow'] > 0.018) & (df['Gas Flow'] < 0.035)].reset_index(drop=True)\n",
    "g6a = df[(df['Set Point Temp'] == 35) & (df['Gas Flow'] > 0.035) & (df['Gas Flow'] < 0.068)].reset_index(drop=True)"
   ]
  },
  {
   "cell_type": "code",
   "execution_count": 28,
   "metadata": {},
   "outputs": [
    {
     "data": {
      "image/png": "[encoded data removed]",
      "text/plain": [
       "<Figure size 792x432 with 7 Axes>"
      ]
     },
     "metadata": {
      "needs_background": "light"
     },
     "output_type": "display_data"
    }
   ],
   "source": [
    "delT = df['Inlet Water']-df['Outlet Water']\n",
    "maxdt = max(delT)\n",
    "fig, axs = plt.subplots(2, 3, sharey=True, sharex=True, figsize=[11, 6])\n",
    "for ax, g in zip(axs.flat, [g1a, g2a, g3a, g4a, g5a, g6a]):\n",
    "    delT = g['Inlet Water']-g['Outlet Water']\n",
    "    dummy = ax.scatter(g['L/G'], g['NTU'], c=delT, cmap='hot', s=30, edgecolor='k', linewidths=.5, vmin=0, vmax=maxdt)\n",
    "\n",
    "# plt.setp(axs.flat, xlabel='L/G', ylabel='NTU')\n",
    "# for ax in axs.flat:\n",
    "#     ax.label_outer()\n",
    "\n",
    "g1b = g1.append(g4)\n",
    "g2b = g2.append(g5)\n",
    "g3b = g3.append(g6)\n",
    "gmeans = np.array([g1b['Gas Flow'].mean(), g2b['Gas Flow'].mean(), g3b['Gas Flow'].mean()])*10**3\n",
    "gerrs = np.array([g1b['Gas Flow - err'].mean(), g2b['Gas Flow - err'].mean(), g3b['Gas Flow - err'].mean()])*10**3\n",
    "gs = [ufloat(mns, ers) for mns, ers in zip(gmeans, gerrs)]\n",
    "\n",
    "axs[0, 0].set(ylabel='$T_{SP} = 45^\\circ C$\\nNTU')\n",
    "axs[1, 0].set(ylabel='$T_{SP} = 35^\\circ C$\\nNTU')\n",
    "axs[1, 0].set(xlabel=f'L/G\\nG = ${gs[0]:.0fL}$'+' g s$^{-1}$')\n",
    "axs[1, 1].set(xlabel=f'L/G\\nG = ${gs[1]:.0fL}$'+' g s$^{-1}$')\n",
    "axs[1, 2].set(xlabel=f'L/G\\nG = ${gs[2]:.0fL}$'+' g s$^{-1}$')\n",
    "    \n",
    "cbar = fig.colorbar(dummy, ax=axs.ravel().tolist())\n",
    "cbar.set_label('$\\Delta T_W$')\n",
    "\n",
    "plt.savefig(r'Figures\\NTU v LG colorbar.png', dpi=300)"
   ]
  }
 ],
 "metadata": {
  "kernelspec": {
   "display_name": "Python 3.8.1 64-bit",
   "language": "python",
   "name": "python38164bit26ec8dace3434765add4cc87e93c1379"
  },
  "language_info": {
   "codemirror_mode": {
    "name": "ipython",
    "version": 3
   },
   "file_extension": ".py",
   "mimetype": "text/x-python",
   "name": "python",
   "nbconvert_exporter": "python",
   "pygments_lexer": "ipython3",
   "version": "3.8.1"
  }
 },
 "nbformat": 4,
 "nbformat_minor": 4
}
