{
 "cells": [
  {
   "cell_type": "markdown",
   "metadata": {},
   "source": [
    "# Cooling Tower Data Analysis\n",
    "### Importing libraries"
   ]
  },
  {
   "cell_type": "code",
   "execution_count": 1,
   "metadata": {},
   "outputs": [],
   "source": [
    "import pandas as pd\n",
    "import numpy as np\n",
    "import scipy.integrate as intgr\n",
    "from scipy.optimize import curve_fit\n",
    "import matplotlib.pyplot as plt\n",
    "import seaborn as sns\n",
    "from uncertainties import ufloat"
   ]
  },
  {
   "cell_type": "markdown",
   "metadata": {},
   "source": [
    "### General equations\n",
    "Defined as many functions as possible. i.e. Those that won't change.\n",
    "* $hsat$: Enthalpy of saturated air, form for fit equation\n",
    "* $Fah2Cel$: Convert Fahrenheit to Celsius\n",
    "* $BTUpound2kJkg$: Convert $\\frac{BTU}{lb}$ to $\\frac{kJ}{kg}$"
   ]
  },
  {
   "cell_type": "code",
   "execution_count": 2,
   "metadata": {},
   "outputs": [],
   "source": [
    "def hsat(T, a, b):\n",
    "    return a*np.exp(b*T)\n",
    "def Fah2Cel(T):\n",
    "    return (T-32)*5/9\n",
    "def BTUpound2kJkg(x):\n",
    "    return x*2.326"
   ]
  },
  {
   "cell_type": "markdown",
   "metadata": {},
   "source": [
    "### Fitting $hsat$ and plotting result"
   ]
  },
  {
   "cell_type": "code",
   "execution_count": 3,
   "metadata": {},
   "outputs": [],
   "source": [
    "# Empirical/fit data\n",
    "hs_T = np.array([40, 50, 60, 70, 80, 90, 100, 110, 120, 130]) # F\n",
    "hs_h = np.array([15.230, 20.301, 26.46, 34.09, 43.69, 55.93, 71.73, 92.34, 119.54, 155.9]) # BTU/lb dry air\n",
    "\n",
    "hs_T = Fah2Cel(hs_T)\n",
    "hs_h = BTUpound2kJkg(hs_h)\n",
    "\n",
    "# Fitting procedure\n",
    "hsat_fit, hsat_cov = curve_fit(hsat, hs_T, hs_h, [0, 0])\n",
    "fit_err = np.sqrt(np.diagonal(hsat_cov))\n",
    "\n",
    "# Get fitted curve\n",
    "hs_Tdata = np.linspace(hs_T[0], hs_T[-1], 100)\n",
    "hs_hdata = hsat(hs_Tdata, *hsat_fit)\n",
    "hs_h_errp = hsat(hs_Tdata, *(hsat_fit+fit_err))\n",
    "hs_h_errn = hsat(hs_Tdata, *(hsat_fit-fit_err))"
   ]
  },
  {
   "cell_type": "code",
   "execution_count": 4,
   "metadata": {},
   "outputs": [
    {
     "data": {
      "image/png": "[encoded data removed]",
      "text/plain": [
       "<Figure size 432x288 with 1 Axes>"
      ]
     },
     "metadata": {
      "needs_background": "light"
     },
     "output_type": "display_data"
    }
   ],
   "source": [
    "# Plot data and fitted curve\n",
    "plt.figure(1)\n",
    "plt.plot(hs_T, hs_h, 'b.')\n",
    "plt.plot(hs_Tdata, hs_hdata, 'r-', linewidth=.5)\n",
    "plt.xlabel('Temperature $^\\circ$C')\n",
    "plt.ylabel('h$_s$ kJ/kg dry air')\n",
    "plt.legend(labels=['data', 'fit'])\n",
    "plt.fill_between(hs_Tdata, hs_h_errp, hs_h_errn, color='r', alpha=0.3)\n",
    "ax = plt.gca()\n",
    "ax.set_aspect(1.0/ax.get_data_ratio())\n",
    "plt.savefig('Figures\\hsat fit.png', dpi=300)"
   ]
  },
  {
   "cell_type": "markdown",
   "metadata": {},
   "source": [
    "### Define air operating-line, Merkel equation, and power law fit\n",
    "Now that $hsat$ is fitted, $enthalpy$ and $merkel$ can be defined\\\n",
    "It is also useful to have the power law defined for fitting"
   ]
  },
  {
   "cell_type": "code",
   "execution_count": 5,
   "metadata": {},
   "outputs": [],
   "source": [
    "def enthalpy(T, Tin, Tout, LG):\n",
    "    # Cp water = 4.182 kJ/kg C\n",
    "    # Tout = Outlet water temperature [Celsius]\n",
    "    # T = Water Temp [Celsius]\n",
    "    # Tin = Wet bulb temperature in [Celsius]\n",
    "    hin = hsat(Tin, *hsat_fit)\n",
    "    h = hin + LG * 4.182 * (T-Tout)\n",
    "    return h # [kJ/kg]\n",
    "def merkel(T, Tin, Tout, LG):\n",
    "    h = enthalpy(T, Tin, Tout, LG)\n",
    "    hs = hsat(T, *hsat_fit)\n",
    "    return 4.182/(hs-h)"
   ]
  },
  {
   "cell_type": "markdown",
   "metadata": {},
   "source": [
    "## Data preprocessing"
   ]
  },
  {
   "cell_type": "markdown",
   "metadata": {},
   "source": [
    "### Units\n",
    "|  | Set Point Temp | Gas Flow | Liquid Flow | Outlet Water | Inlet Water | Outlet Air - Dry Bulb | Outlet Air - Wet Bulb | Inlet Air - Wet Bulb | Inlet Air - Dry Bulb |\n",
    "|--------|----------------|----------|-------------|--------------|-------------|-----------------------|-----------------------|----------------------|----------------------|\n",
    "| Raw | $^\\circ$ C | m/s | gal/min | $^\\circ$ C | $^\\circ$ C | $^\\circ$ C | $^\\circ$ C | $^\\circ$ C | $^\\circ$ C |\n",
    "| Desired | $^\\circ$ C | kg/s | kg/s | $^\\circ$ C | $^\\circ$ C | $^\\circ$ C | $^\\circ$ C | $^\\circ$ C | $^\\circ$ C |\n",
    "\n",
    "Most units can be readily converted to the desired output, with the exception of gas flow. Converting gas flow in m/s to kg/s requires the find the density of the inlet air, which is humid.\n",
    "\n",
    "Perry's Handbook: Find saturation vapor pressure $p_{wb}$ at wet-bulb temperature $T_{wb}$ from Eq. (12-4). Find actual vapor\n",
    "pressure $p$ at dry-bulb temperature $T$ from psychrometer equation (12-11). Find humid air density $\\rho_g$ by\n",
    "conversion from $p$ and $T$ (Table 12-2). All units in SI.\n",
    "\n",
    "**12-4:** $\\ln p_{wb} = −6096.9385T_{wb}^{−1} + 21.2409642 − 2.711193\\times10^{−2}T_{wb} + 1.673952\\times10^{−5}T_{wb}^2 + 2.433502 \\ln T_{wb}$\n",
    "\n",
    "where $T_{wb}$ is in Kelvin, $p_{wb}$ is in pascals.\n",
    "\n",
    "**12-11:** $p = p_{wb} − AP(T − T_{wb})$\n",
    "\n",
    "where $A$ is the psychrometric coefficient and $P$ is atmosphere pressure in Pa.\n",
    "\n",
    "**12-11a:** $A = 6.5\\times10^{−4}(1 + 0.000944T_{wb})$\n",
    "\n",
    "Eq. 12-11a is valid for $T_{wb}$ up to 30 $^\\circ$C.\n",
    "\n",
    "**Table 12-2**: $\\rho_g = \\frac{P-0.378p}{287.1T}$\n",
    "\n",
    "where $\\rho_g$ is the humid air density (kg/m^3).\n",
    "\n",
    "For Day 1 of this lab, Feb. 12, 2020, atmospheric pressure $P$ was 30.12 \"Hg."
   ]
  },
  {
   "cell_type": "code",
   "execution_count": 6,
   "metadata": {},
   "outputs": [],
   "source": [
    "def get_rho(T, T_wb, day):\n",
    "    # T = Inlet Air - Dry Bulb [Kelvin]\n",
    "    # T_wb = Inlet Air - Wet Bulb [Kelvin]\n",
    "    # P = 30.12 \"Hg on Day 1 = 101998.03 Pa\n",
    "    T = T+273.15 # convert Celsius to Kelvin\n",
    "    T_wb = T_wb+273.15 # convert...\n",
    "    if day == 1:\n",
    "        P = 101998.03\n",
    "    else:\n",
    "        P = 101862.57\n",
    "    p_wb = np.exp(-6096.9385*T_wb**-1 + \\\n",
    "                  21.2409642 - 2.711193*10**-2*T_wb + \\\n",
    "                  1.673952*10**-5*T_wb**2 + \\\n",
    "                  2.433502*np.log(T_wb))\n",
    "    A = 6.5*10**-4*(1 + 0.000944*T_wb)\n",
    "    p = p_wb - A*P*(T - T_wb)\n",
    "    rho = (P-0.378*p)/(287.1*T)\n",
    "    return rho\n",
    "\n",
    "def get_ma(v, T, T_wb, day):\n",
    "    rho = get_rho(T, T_wb, day) # kg/m^3\n",
    "    V = v*np.pi/4*0.095**2 # m^3/s\n",
    "    return rho*V # kg/s"
   ]
  },
  {
   "cell_type": "markdown",
   "metadata": {},
   "source": [
    "### Error propagation functions"
   ]
  },
  {
   "cell_type": "code",
   "execution_count": 7,
   "metadata": {},
   "outputs": [],
   "source": [
    "# dx denotes error of x\n",
    "\n",
    "def Terr(T):\n",
    "    return np.where(0.04*T > 0.5, 0.04*T, 0.5)\n",
    "\n",
    "def Lerr(L):\n",
    "    return 0.02*2\n",
    "\n",
    "def Gerr(G):\n",
    "    return np.where(0.03*G > 0.2, 0.03*G, 0.2)\n",
    "\n",
    "def LGerr(L, G, dL, dG):\n",
    "    # LG = L/G => 1/G, -L/G^2\n",
    "    pL = 1/G\n",
    "    pG = -1*L/G**2\n",
    "    return np.sqrt(pL**2*dL**2 + pG**2*dG**2)\n",
    "\n",
    "def Gerr2(v, T, T_wb, dv, dT, dT_wb, day):\n",
    "    T = T+273.15\n",
    "    T_wb = T_wb+273.15\n",
    "    if day == 1:\n",
    "        P = 101998.03\n",
    "    else:\n",
    "        P = 101862.57\n",
    "    p_wb = np.exp(-6096.9385*T_wb**-1 + \\\n",
    "                  21.2409642 - 2.711193*10**-2*T_wb + \\\n",
    "                  1.673952*10**-5*T_wb**2 + \\\n",
    "                  2.433502*np.log(T_wb))\n",
    "    A = 6.5*10**-4*(1 + 0.000944*T_wb)\n",
    "    p = p_wb - A*P*(T - T_wb)\n",
    "    rho = (P-0.378*p)/(287.1*T)\n",
    "    V = v*np.pi/4*0.095**2 # m^3/s\n",
    "    dp_wb = (6096.9385/T_wb**2 - \\\n",
    "                2.711193*10**-2 + \\\n",
    "                2*1.673952*10**-5*T_wb + \\\n",
    "                2.433502/T_wb)*p_wb*dT_wb\n",
    "    dA = 6.5*10**-4*0.000944*dT_wb\n",
    "    dp = np.sqrt(dp_wb**2 + \\\n",
    "                 (-P*(T - T_wb))**2*dA**2 + \\\n",
    "                 (A*P)**2*dT**2 + \\\n",
    "                 (A*P)**2*dT_wb**2\n",
    "                )\n",
    "    drho = np.sqrt((0.378/(287.1*T))**2*dp**2 + \\\n",
    "                   ((P-0.378*p)/(287.1*T**2))**2*dT**2\n",
    "                  )\n",
    "    dV = np.sqrt((np.pi/4*0.095**2)**2*dv**2 + \\\n",
    "                 (2*v*np.pi/4*0.095)**2*0.005**2\n",
    "                )\n",
    "    dG = np.sqrt(V**2*drho**2 + \\\n",
    "                 rho**2*dV**2\n",
    "                )\n",
    "    return dG"
   ]
  },
  {
   "cell_type": "markdown",
   "metadata": {},
   "source": [
    "### Import and clean data\n",
    "I had combined all the data from day 1 and added two columns, Group and Trial. These columns ended up being trivial as the liquid flow sufficed to group the data. I then aggregated by liquid flow and calculated means and standard deviations, compiling these values in a new dataframe.\n",
    "### Get NTU and error\n",
    "Used larger of two between instrument error and standard deviation of measurements."
   ]
  },
  {
   "cell_type": "code",
   "execution_count": 8,
   "metadata": {
    "scrolled": true
   },
   "outputs": [],
   "source": [
    "df1 = pd.read_csv(\"Cooling Tower Day 1 - All.csv\")\n",
    "df2 = pd.read_csv(\"Cooling Tower Day 2 - All.csv\")\n",
    "df1.insert(0, 'Day', 1)\n",
    "df2.insert(0, 'Day', 2)\n",
    "df = df1.append(df2)\n",
    "\n",
    "# Drop extra columns\n",
    "df = df.drop(columns=['Trial'])\n",
    "\n",
    "# Convert L and G and get L/G\n",
    "df['Liquid Flow'] = df['Liquid Flow'].apply(lambda x: x*6.30902*10**-5*997)\n",
    "df['Gas Flow'] = df.apply(lambda x: get_ma(x['Gas Flow'],\n",
    "                                           x['Inlet Air - Dry Bulb'],\n",
    "                                           x['Inlet Air - Wet Bulb'],\n",
    "                                           x['Day']\n",
    "                                          ),\n",
    "                          axis=1\n",
    "                         )\n",
    "df['L/G'] = df['Liquid Flow']/df['Gas Flow']\n",
    "\n",
    "# Calculate NTU\n",
    "NTU = df.apply(lambda x: intgr.quad(merkel, x['Outlet Water'], x['Inlet Water'],\n",
    "                                   args=(x['Inlet Air - Wet Bulb'], x['Outlet Water'], x['L/G'])),\n",
    "             axis=1)\n",
    "df['NTU'] = NTU.apply(lambda x: x[0])\n",
    "\n",
    "# Temperature errors\n",
    "rawlist = ['Outlet Water', 'Inlet Water', 'Outlet Air - Dry Bulb', 'Outlet Air - Wet Bulb', 'Inlet Air - Wet Bulb', 'Inlet Air - Dry Bulb']\n",
    "errlist = ['Outlet Water - err', 'Inlet Water - err', 'Outlet Air - Dry Bulb - err', 'Outlet Air - Wet Bulb - err', 'Inlet Air - Wet Bulb - err', 'Inlet Air - Dry Bulb - err']\n",
    "for raw, err in zip(rawlist, errlist):\n",
    "    df[err] = Terr(df[raw])\n",
    "\n",
    "# Flow errors\n",
    "df['Liquid Flow - err'] = Lerr(df['Liquid Flow'])\n",
    "df['Liquid Flow - err'] = df['Liquid Flow - err'].apply(lambda x: x*6.30902*10**-5*997)\n",
    "df['Gas Flow - err'] = Gerr(df['Gas Flow'])\n",
    "df['Gas Flow - err'] = df.apply(lambda x: Gerr2(x['Gas Flow'],\n",
    "                                                x['Inlet Air - Dry Bulb'],\n",
    "                                                x['Inlet Air - Wet Bulb'],\n",
    "                                                x['Gas Flow - err'],\n",
    "                                                x['Inlet Air - Dry Bulb - err'],\n",
    "                                                x['Inlet Air - Wet Bulb - err'],\n",
    "                                                x['Day']\n",
    "                                               ),\n",
    "                                axis=1\n",
    "                               )\n",
    "df['L/G - err'] = LGerr(df['Liquid Flow'], df['Gas Flow'], df['Liquid Flow - err'], df['Gas Flow - err'])\n",
    "\n",
    "# Aggregate for mean and err\n",
    "df_agg = df.groupby('Group').mean().reset_index()\n",
    "df_NTUerr = df.groupby('Group').std().reset_index(drop=True)\n",
    "df_NTUerr = df_NTUerr['NTU'].rename('NTU - err')\n",
    "\n",
    "# Recombine\n",
    "df_agg = pd.concat([df_agg, df_NTUerr], axis=1)\n",
    "\n",
    "# Done using Day\n",
    "df_agg.drop(columns='Day', inplace=True)\n",
    "\n",
    "# df.iloc[73:]['Gas Flow'].unique()"
   ]
  },
  {
   "cell_type": "markdown",
   "metadata": {},
   "source": [
    "### Calculate NTU and plot"
   ]
  },
  {
   "cell_type": "code",
   "execution_count": 9,
   "metadata": {},
   "outputs": [],
   "source": [
    "g1 = df_agg[(df_agg['Set Point Temp'] == 45) & (df_agg['Gas Flow'] < 0.017)].reset_index(drop=True)\n",
    "g2 = df_agg[(df_agg['Set Point Temp'] == 45) & (df_agg['Gas Flow'] > 0.017) & (df_agg['Gas Flow'] < 0.034)].reset_index(drop=True)\n",
    "g3 = df_agg[(df_agg['Set Point Temp'] == 45) & (df_agg['Gas Flow'] > 0.034) & (df_agg['Gas Flow'] < 0.062)].reset_index(drop=True)\n",
    "g4 = df_agg[(df_agg['Set Point Temp'] == 35) & (df_agg['Gas Flow'] < 0.018)].reset_index(drop=True)\n",
    "g5 = df_agg[(df_agg['Set Point Temp'] == 35) & (df_agg['Gas Flow'] > 0.018) & (df_agg['Gas Flow'] < 0.035)].reset_index(drop=True)\n",
    "g6 = df_agg[(df_agg['Set Point Temp'] == 35) & (df_agg['Gas Flow'] > 0.035) & (df_agg['Gas Flow'] < 0.068)].reset_index(drop=True)\n",
    "# for g in [g1, g2, g3, g4, g5, g6]:\n",
    "#     print(len(g.index))"
   ]
  },
  {
   "cell_type": "code",
   "execution_count": 10,
   "metadata": {
    "scrolled": true
   },
   "outputs": [
    {
     "data": {
      "image/png": "[encoded data removed]",
      "text/plain": [
       "<Figure size 432x432 with 1 Axes>"
      ]
     },
     "metadata": {
      "needs_background": "light"
     },
     "output_type": "display_data"
    }
   ],
   "source": [
    "plt.figure(2, figsize=[6, 6])\n",
    "Gs = []\n",
    "for g in [g1, g2, g3]:\n",
    "    plt.errorbar(g['L/G'], g['NTU'], g['NTU - err'], g['L/G - err'], fmt='.', elinewidth=.5, capsize=2)\n",
    "    plt.xlabel('L/G ratio')\n",
    "    plt.ylabel('NTU')\n",
    "    Gs.append(g['Gas Flow'].mean()*10**3)\n",
    "plt.legend(labels=[f'G = {Gs[0]:.2f} g/s', f'G = {Gs[1]:.2f} g/s', f'G = {Gs[2]:.2f} g/s'])\n",
    "# ax = plt.gca()\n",
    "# ax.set_xscale('log')\n",
    "# ax.set_yscale('log')\n",
    "plt.savefig('Figures\\SP 45 NTU v LG.png', dpi=300)\n",
    "# plt.show()"
   ]
  },
  {
   "cell_type": "code",
   "execution_count": 11,
   "metadata": {},
   "outputs": [
    {
     "data": {
      "image/png": "[encoded data removed]",
      "text/plain": [
       "<Figure size 432x432 with 1 Axes>"
      ]
     },
     "metadata": {
      "needs_background": "light"
     },
     "output_type": "display_data"
    }
   ],
   "source": [
    "plt.figure(3, figsize=[6, 6])\n",
    "Gs = []\n",
    "for g in [g4, g5, g6]:\n",
    "    plt.errorbar(g['L/G'], g['NTU'], g['NTU - err'], g['L/G - err'], fmt='.', elinewidth=.5, capsize=2)\n",
    "    plt.xlabel('L/G ratio')\n",
    "    plt.ylabel('NTU')\n",
    "    Gs.append(g['Gas Flow'].mean()*10**3)\n",
    "plt.legend(labels=[f'G = {Gs[0]:.2f} g/s', f'G = {Gs[1]:.2f} g/s', f'G = {Gs[2]:.2f} g/s'])\n",
    "# ax = plt.gca()\n",
    "# ax.set_xscale('log')\n",
    "# ax.set_yscale('log')\n",
    "plt.savefig('Figures\\SP 35 NTU v LG.png', dpi=300)\n",
    "# plt.show()"
   ]
  },
  {
   "cell_type": "markdown",
   "metadata": {},
   "source": [
    "### Fitting NTU vs. L/G"
   ]
  },
  {
   "cell_type": "code",
   "execution_count": 12,
   "metadata": {},
   "outputs": [],
   "source": [
    "def NTULGfit(LG, a, b):\n",
    "    return a*LG**b"
   ]
  },
  {
   "cell_type": "code",
   "execution_count": 13,
   "metadata": {},
   "outputs": [
    {
     "name": "stdout",
     "output_type": "stream",
     "text": [
      "Best fit:\n",
      "NTU = a*(L/G)^b\n",
      "a = 0.71+/-0.08\n",
      "b = -0.70+/-0.13\n",
      "r^2 = 0.6384995547351906\n"
     ]
    },
    {
     "data": {
      "image/png": "[encoded data removed]",
      "text/plain": [
       "<Figure size 432x432 with 1 Axes>"
      ]
     },
     "metadata": {
      "needs_background": "light"
     },
     "output_type": "display_data"
    }
   ],
   "source": [
    "# Get Fit\n",
    "LGweights = 1/(df_agg['L/G - err']/np.mean(df_agg['L/G - err'])+\\\n",
    "               (df_agg['NTU - err']/np.mean(df_agg['NTU - err'])))\n",
    "LGfit, LGcov = curve_fit(NTULGfit, df_agg['L/G'], df_agg['NTU'],\n",
    "                        sigma = LGweights,\n",
    "                        absolute_sigma = True)\n",
    "LGfit_err = np.sqrt(np.diagonal(LGcov))\n",
    "\n",
    "# Fit Curve\n",
    "LGfitx = np.sort(df['L/G'])\n",
    "LGfity = NTULGfit(LGfitx, *LGfit)\n",
    "LGfiterrp = NTULGfit(LGfitx, *(LGfit+LGfit_err))\n",
    "LGfiterrn = NTULGfit(LGfitx, *(LGfit-LGfit_err))\n",
    "\n",
    "# Report goodness of fit\n",
    "LGfit_a = ufloat(LGfit[0], LGfit_err[0])\n",
    "LGfit_b = ufloat(LGfit[1], LGfit_err[1])\n",
    "ss_res = np.sum((df['NTU'] - NTULGfit(df['L/G'], *LGfit))**2)\n",
    "ss_tot = np.sum((df['NTU'] - np.mean(df['NTU']))**2)\n",
    "LGfit_r2 = 1 - (ss_res/ss_tot)\n",
    "LGfit_gof = f\"Best fit:\\nNTU = a*(L/G)^b\\na = {LGfit_a}\\nb = {LGfit_b}\\nr^2 = {LGfit_r2}\"\n",
    "print(LGfit_gof)\n",
    "\n",
    "# Plot Fit and Data\n",
    "plt.figure(3, figsize=[6, 6])\n",
    "plt.errorbar(df_agg['L/G'], df_agg['NTU'], df_agg['NTU - err'], df_agg['L/G - err'], 'ok', markersize=3, markerfacecolor='w', label='data')\n",
    "plt.plot(LGfitx, LGfity, 'r-', label='fit')\n",
    "plt.xlabel('L/G')\n",
    "plt.ylabel('NTU')\n",
    "plt.legend()\n",
    "\n",
    "ax = plt.gca()\n",
    "ax.set_xscale('log'); ax.set_yscale('log')\n",
    "ax.fill_between(LGfitx, LGfiterrp, LGfiterrn, color='r', alpha=0.3)\n",
    "# from matplotlib.ticker import ScalarFormatter\n",
    "# for axis in [ax.xaxis, ax.yaxis]:\n",
    "#     axis.set_major_formatter(ScalarFormatter())\n",
    "plt.savefig(r'Figures\\NTU v LG Fit.png', dpi=300)\n",
    "# plt.show()"
   ]
  },
  {
   "cell_type": "code",
   "execution_count": null,
   "metadata": {},
   "outputs": [],
   "source": []
  }
 ],
 "metadata": {
  "kernelspec": {
   "display_name": "Python 3.8.1 64-bit",
   "language": "python",
   "name": "python38164bit26ec8dace3434765add4cc87e93c1379"
  },
  "language_info": {
   "codemirror_mode": {
    "name": "ipython",
    "version": 3
   },
   "file_extension": ".py",
   "mimetype": "text/x-python",
   "name": "python",
   "nbconvert_exporter": "python",
   "pygments_lexer": "ipython3",
   "version": "3.8.1"
  }
 },
 "nbformat": 4,
 "nbformat_minor": 4
}
