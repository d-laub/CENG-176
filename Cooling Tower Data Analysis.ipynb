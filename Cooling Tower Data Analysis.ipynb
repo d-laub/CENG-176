{
 "cells": [
  {
   "cell_type": "markdown",
   "metadata": {},
   "source": [
    "# Cooling Tower Data Analysis\n",
    "### Importing necessary libraries"
   ]
  },
  {
   "cell_type": "code",
   "execution_count": 91,
   "metadata": {},
   "outputs": [],
   "source": [
    "import pandas as pd\n",
    "import numpy as np\n",
    "from scipy.integrate import simps\n",
    "from scipy.optimize import curve_fit\n",
    "import matplotlib.pyplot as plt\n",
    "import seaborn as sns"
   ]
  },
  {
   "cell_type": "markdown",
   "metadata": {},
   "source": [
    "## Data preprocessing\n",
    "### Import and clean data\n",
    "I had combined all the data from day 1 and added two columns, Group and Trial. These columns ended up being trivial as the liquid flow sufficed to group the data. I then aggregated by liquid flow and calculated means and standard deviations, compiling these values in a new dataframe."
   ]
  },
  {
   "cell_type": "code",
   "execution_count": null,
   "metadata": {},
   "outputs": [],
   "source": [
    "df = pd.read_csv(\"Cooling Tower Day 1 - All.csv\")\n",
    "df = df.drop(columns=['Group', 'Trial'])"
   ]
  },
  {
   "cell_type": "markdown",
   "metadata": {},
   "source": [
    "### Units\n",
    "|  | Set Point Temp | Gas Flow | Liquid Flow | Outlet Water | Inlet Water | Outlet Air - Dry Bulb | Outlet Air - Wet Bulb | Inlet Air - Wet Bulb | Inlet Air - Dry Bulb |\n",
    "|--------|----------------|----------|-------------|--------------|-------------|-----------------------|-----------------------|----------------------|----------------------|\n",
    "| Raw | $^\\circ$ F | m/s | gal/min | $^\\circ$ F | $^\\circ$ F | $^\\circ$ F | $^\\circ$ F | $^\\circ$ F | $^\\circ$ F |\n",
    "| Output | $^\\circ$ C | kg/s | kg/s | $^\\circ$ C | $^\\circ$ C | $^\\circ$ C | $^\\circ$ C | $^\\circ$ C | $^\\circ$ C |\n",
    "\n",
    "Most units can be readily converted to the desired output, with the exception of gas flow. Converting gas flow in m/s to kg/s requires the find the density of the inlet air, which is humid.\n",
    "\n",
    "Perry's Guide: Find saturation vapor pressure pwb at wet-bulb temperature $T_{wb}$ from Eq. (12-4). Find actual vapor\n",
    "pressure $p$ at dry-bulb temperature $T$ from psychrometer equation (12-11). Find mixing ratio $Y$ by\n",
    "conversion from $p$ (Table 12-1).\n",
    "\n",
    "**12-4:** $\\ln p_s = − 6096.9385T^{−1} + 21.2409642 − 2.711193\\times10^{−2}T + 1.673952\\times10^{−5}T^2 + 2.433502 \\ln T$\n",
    "\n",
    "where $T$ is in Kelvin, $p_s$ is in pascals.\n",
    "\n",
    "**12-11:** $p = p_{wb} − AP(T − T_{wb})$\n",
    "\n",
    "where $A$ is the psychrometric coefficient and $P$ is atmosphere pressure.\n",
    "\n",
    "**12-11a:** $A = 6.5\\times10^{−4}(1 + 0.000944T_{wb})$\n",
    "\n",
    "Eq. 12-11a is valid for $T_{wb}$ up to 30 $^\\circ$C.\n",
    "\n",
    "**Table 12-1**: $Y = \\frac{0.622p}{P-p}$\n",
    "\n",
    "where $P$ is atmospheric pressure i.e. what the barometer reads, and $Y$ is the absolute humidity (kg/kg).\n",
    "\n",
    "From $Y$, air density is readily found."
   ]
  },
  {
   "cell_type": "code",
   "execution_count": null,
   "metadata": {},
   "outputs": [],
   "source": [
    "def McRae(T):\n",
    "    # T = ambient temperature, Inlet Air - Dry Bulb\n",
    "    t = lambda T: 1-373.15/T\n",
    "    P"
   ]
  },
  {
   "cell_type": "code",
   "execution_count": 97,
   "metadata": {
    "scrolled": true
   },
   "outputs": [
    {
     "data": {
      "text/html": [
       "<div>\n",
       "<style scoped>\n",
       "    .dataframe tbody tr th:only-of-type {\n",
       "        vertical-align: middle;\n",
       "    }\n",
       "\n",
       "    .dataframe tbody tr th {\n",
       "        vertical-align: top;\n",
       "    }\n",
       "\n",
       "    .dataframe thead th {\n",
       "        text-align: right;\n",
       "    }\n",
       "</style>\n",
       "<table border=\"1\" class=\"dataframe\">\n",
       "  <thead>\n",
       "    <tr style=\"text-align: right;\">\n",
       "      <th></th>\n",
       "      <th>Set Point Temp</th>\n",
       "      <th>Gas Flow</th>\n",
       "      <th>Liquid Flow</th>\n",
       "      <th>Outlet Water</th>\n",
       "      <th>Inlet Water</th>\n",
       "      <th>Outlet Air - Dry Bulb</th>\n",
       "      <th>Outlet Air - Wet Bulb</th>\n",
       "      <th>Inlet Air - Wet Bulb</th>\n",
       "      <th>Inlet Air - Dry Bulb</th>\n",
       "      <th>Outlet Water - std</th>\n",
       "      <th>Inlet Water  - std</th>\n",
       "      <th>Outlet Air - Dry Bulb - std</th>\n",
       "      <th>Outlet Air - Wet Bulb - std</th>\n",
       "      <th>Inlet Air - Wet Bulb - std</th>\n",
       "      <th>Inlet Air - Dry Bulb - std</th>\n",
       "    </tr>\n",
       "  </thead>\n",
       "  <tbody>\n",
       "    <tr>\n",
       "      <th>0</th>\n",
       "      <td>45</td>\n",
       "      <td>1.98</td>\n",
       "      <td>0.2</td>\n",
       "      <td>31.433333</td>\n",
       "      <td>45.633333</td>\n",
       "      <td>32.800000</td>\n",
       "      <td>31.733333</td>\n",
       "      <td>14.833333</td>\n",
       "      <td>20.500000</td>\n",
       "      <td>0.208167</td>\n",
       "      <td>0.152753</td>\n",
       "      <td>0.300000</td>\n",
       "      <td>0.208167</td>\n",
       "      <td>0.057735</td>\n",
       "      <td>0.100000</td>\n",
       "    </tr>\n",
       "    <tr>\n",
       "      <th>1</th>\n",
       "      <td>45</td>\n",
       "      <td>1.98</td>\n",
       "      <td>0.4</td>\n",
       "      <td>34.466667</td>\n",
       "      <td>45.500000</td>\n",
       "      <td>36.833333</td>\n",
       "      <td>35.833333</td>\n",
       "      <td>14.666667</td>\n",
       "      <td>20.566667</td>\n",
       "      <td>0.057735</td>\n",
       "      <td>0.100000</td>\n",
       "      <td>0.152753</td>\n",
       "      <td>0.057735</td>\n",
       "      <td>0.057735</td>\n",
       "      <td>0.057735</td>\n",
       "    </tr>\n",
       "    <tr>\n",
       "      <th>2</th>\n",
       "      <td>45</td>\n",
       "      <td>1.98</td>\n",
       "      <td>0.6</td>\n",
       "      <td>36.700000</td>\n",
       "      <td>46.533333</td>\n",
       "      <td>39.533333</td>\n",
       "      <td>39.066667</td>\n",
       "      <td>14.633333</td>\n",
       "      <td>20.633333</td>\n",
       "      <td>0.100000</td>\n",
       "      <td>0.057735</td>\n",
       "      <td>0.057735</td>\n",
       "      <td>0.057735</td>\n",
       "      <td>0.057735</td>\n",
       "      <td>0.152753</td>\n",
       "    </tr>\n",
       "    <tr>\n",
       "      <th>3</th>\n",
       "      <td>45</td>\n",
       "      <td>1.98</td>\n",
       "      <td>0.8</td>\n",
       "      <td>38.133333</td>\n",
       "      <td>47.500000</td>\n",
       "      <td>41.333333</td>\n",
       "      <td>41.000000</td>\n",
       "      <td>14.733333</td>\n",
       "      <td>20.400000</td>\n",
       "      <td>0.152753</td>\n",
       "      <td>0.100000</td>\n",
       "      <td>0.057735</td>\n",
       "      <td>0.100000</td>\n",
       "      <td>0.057735</td>\n",
       "      <td>0.100000</td>\n",
       "    </tr>\n",
       "    <tr>\n",
       "      <th>4</th>\n",
       "      <td>45</td>\n",
       "      <td>1.98</td>\n",
       "      <td>1.0</td>\n",
       "      <td>39.200000</td>\n",
       "      <td>45.566667</td>\n",
       "      <td>41.700000</td>\n",
       "      <td>41.333333</td>\n",
       "      <td>14.900000</td>\n",
       "      <td>20.566667</td>\n",
       "      <td>0.100000</td>\n",
       "      <td>0.057735</td>\n",
       "      <td>0.100000</td>\n",
       "      <td>0.057735</td>\n",
       "      <td>0.000000</td>\n",
       "      <td>0.152753</td>\n",
       "    </tr>\n",
       "  </tbody>\n",
       "</table>\n",
       "</div>"
      ],
      "text/plain": [
       "   Set Point Temp  Gas Flow  Liquid Flow  Outlet Water  Inlet Water   \\\n",
       "0              45      1.98          0.2     31.433333     45.633333   \n",
       "1              45      1.98          0.4     34.466667     45.500000   \n",
       "2              45      1.98          0.6     36.700000     46.533333   \n",
       "3              45      1.98          0.8     38.133333     47.500000   \n",
       "4              45      1.98          1.0     39.200000     45.566667   \n",
       "\n",
       "   Outlet Air - Dry Bulb  Outlet Air - Wet Bulb  Inlet Air - Wet Bulb  \\\n",
       "0              32.800000              31.733333             14.833333   \n",
       "1              36.833333              35.833333             14.666667   \n",
       "2              39.533333              39.066667             14.633333   \n",
       "3              41.333333              41.000000             14.733333   \n",
       "4              41.700000              41.333333             14.900000   \n",
       "\n",
       "   Inlet Air - Dry Bulb  Outlet Water - std  Inlet Water  - std  \\\n",
       "0             20.500000            0.208167            0.152753   \n",
       "1             20.566667            0.057735            0.100000   \n",
       "2             20.633333            0.100000            0.057735   \n",
       "3             20.400000            0.152753            0.100000   \n",
       "4             20.566667            0.100000            0.057735   \n",
       "\n",
       "   Outlet Air - Dry Bulb - std  Outlet Air - Wet Bulb - std  \\\n",
       "0                     0.300000                     0.208167   \n",
       "1                     0.152753                     0.057735   \n",
       "2                     0.057735                     0.057735   \n",
       "3                     0.057735                     0.100000   \n",
       "4                     0.100000                     0.057735   \n",
       "\n",
       "   Inlet Air - Wet Bulb - std  Inlet Air - Dry Bulb - std  \n",
       "0                    0.057735                    0.100000  \n",
       "1                    0.057735                    0.057735  \n",
       "2                    0.057735                    0.152753  \n",
       "3                    0.057735                    0.100000  \n",
       "4                    0.000000                    0.152753  "
      ]
     },
     "execution_count": 97,
     "metadata": {},
     "output_type": "execute_result"
    }
   ],
   "source": [
    "df1 = df.groupby(['Set Point Temp','Gas Flow', 'Liquid Flow']).agg('mean').reset_index(drop=True)\n",
    "df2 = df.groupby(['Set Point Temp','Gas Flow', 'Liquid Flow']).agg('std').reset_index(drop=True)\n",
    "df2 = df2.rename(lambda x: x+' - std', axis=1)\n",
    "df = df[['Set Point Temp', 'Gas Flow', 'Liquid Flow']].drop_duplicates().reset_index()\n",
    "df = pd.concat([df, df1, df2], axis=1).drop(columns='index')\n",
    "df.head()"
   ]
  },
  {
   "cell_type": "markdown",
   "metadata": {},
   "source": [
    "### General equations\n",
    "Defined as many functions as possible. i.e. Those that won't change.\n",
    "* $merkel$: Merkel equation, form that is readily integrated, i.e. instanteous evaluation\n",
    "* $hsat$: Enthalpy of saturated air, form for fit equation"
   ]
  },
  {
   "cell_type": "code",
   "execution_count": 3,
   "metadata": {},
   "outputs": [],
   "source": [
    "def merkel(T, delh):\n",
    "    NTU = 4182/(delh)*T\n",
    "    return NTU\n",
    "def hsat(T, a, b):\n",
    "    return a*np.exp(b*T)"
   ]
  },
  {
   "cell_type": "markdown",
   "metadata": {},
   "source": [
    "### Fitting $hsat$ and plotting result"
   ]
  },
  {
   "cell_type": "code",
   "execution_count": 4,
   "metadata": {},
   "outputs": [
    {
     "name": "stdout",
     "output_type": "stream",
     "text": [
      "[5.60899875 0.02553773]\n",
      "[0.08637353 0.00013167]\n"
     ]
    }
   ],
   "source": [
    "# Empirical/fit data\n",
    "hs_T = [40, 50, 60, 70, 80, 90, 100, 110, 120, 130]\n",
    "hs_h = [15.230, 20.301, 26.46, 34.09, 43.69, 55.93, 71.73, 92.34, 119.54, 155.9]\n",
    "\n",
    "# Fitting procedure\n",
    "hsat_fit, hsat_cov = curve_fit(hsat, hs_T, hs_h, [0, 0])\n",
    "fit_err = np.sqrt(np.diagonal(hsat_cov))\n",
    "\n",
    "# Get fitted curve\n",
    "hs_Tdata = np.linspace(hs_T[0], hs_T[-1], 100)\n",
    "hs_hdata = hsat(hs_Tdata, *hsat_fit)\n",
    "hs_h_errp = hsat(hs_Tdata, *hsat_fit+fit_err)\n",
    "hs_h_errn = hsat(hs_Tdata, *hsat_fit-fit_err)"
   ]
  },
  {
   "cell_type": "code",
   "execution_count": 5,
   "metadata": {},
   "outputs": [
    {
     "data": {
      "image/png": "[encoded data removed]",
      "text/plain": [
       "<Figure size 432x288 with 1 Axes>"
      ]
     },
     "metadata": {
      "needs_background": "light"
     },
     "output_type": "display_data"
    }
   ],
   "source": [
    "# Plot data and fitted curve\n",
    "fig_hs, ax_hs = plt.subplots()\n",
    "sns.scatterplot(hs_T, hs_h, ax=ax_hs)\n",
    "sns.lineplot(hs_Tdata, hs_hdata, ax=ax_hs, color='r', size=10)\n",
    "ax_hs.set(xlabel='Temperature $^\\circ$F', ylabel='h$_s$ BTU/lb dry air')\n",
    "ax_hs.fill_between(hs_Tdata, hs_h_errp, hs_h_errn, color='r', alpha=0.3)\n",
    "plt.legend(labels=['fit', 'data'])\n",
    "plt.show(ax_hs)"
   ]
  },
  {
   "cell_type": "markdown",
   "metadata": {},
   "source": [
    "### Define air operating-line\n",
    "Now that hsat is fitted, $enthalpy$ can be defined"
   ]
  },
  {
   "cell_type": "code",
   "execution_count": 6,
   "metadata": {},
   "outputs": [],
   "source": [
    "def enthalpy(Tin, L, G, T, Tout):\n",
    "    # Cp water = 4182 J/kg C\n",
    "    # Tout = Cold-water temperature (Water out)\n",
    "    # T = Wet bulb temperature out\n",
    "    # Tin = Wet bulb temperature in\n",
    "    hin = hsat(Tin, *hsat_fit)\n",
    "    h = hin + L/G * 4182 * (T-Tout)\n",
    "    return h"
   ]
  },
  {
   "cell_type": "markdown",
   "metadata": {},
   "source": [
    "### Calculate Enthalpy and add to Dataframe"
   ]
  },
  {
   "cell_type": "code",
   "execution_count": 84,
   "metadata": {},
   "outputs": [],
   "source": [
    "df['Enthalpy'] = df.apply(lambda x: enthalpy(x['Inlet Air - Wet Bulb'],\n",
    "                            x['Liquid Flow'],\n",
    "                            x['Gas Flow'],\n",
    "                            x['Outlet Air - Wet Bulb'],\n",
    "                            x['Outlet Water']\n",
    "                           ),\n",
    "         axis=1\n",
    "        )"
   ]
  },
  {
   "cell_type": "code",
   "execution_count": 90,
   "metadata": {},
   "outputs": [
    {
     "data": {
      "text/html": [
       "<div>\n",
       "<style scoped>\n",
       "    .dataframe tbody tr th:only-of-type {\n",
       "        vertical-align: middle;\n",
       "    }\n",
       "\n",
       "    .dataframe tbody tr th {\n",
       "        vertical-align: top;\n",
       "    }\n",
       "\n",
       "    .dataframe thead th {\n",
       "        text-align: right;\n",
       "    }\n",
       "</style>\n",
       "<table border=\"1\" class=\"dataframe\">\n",
       "  <thead>\n",
       "    <tr style=\"text-align: right;\">\n",
       "      <th></th>\n",
       "      <th>Set Point Temp</th>\n",
       "      <th>Gas Flow</th>\n",
       "      <th>Liquid Flow</th>\n",
       "      <th>Outlet Water</th>\n",
       "      <th>Inlet Water</th>\n",
       "      <th>Outlet Air - Dry Bulb</th>\n",
       "      <th>Outlet Air - Wet Bulb</th>\n",
       "      <th>Inlet Air - Wet Bulb</th>\n",
       "      <th>Inlet Air - Dry Bulb</th>\n",
       "      <th>Outlet Water - std</th>\n",
       "      <th>Inlet Water  - std</th>\n",
       "      <th>Outlet Air - Dry Bulb - std</th>\n",
       "      <th>Outlet Air - Wet Bulb - std</th>\n",
       "      <th>Inlet Air - Wet Bulb - std</th>\n",
       "      <th>Inlet Air - Dry Bulb - std</th>\n",
       "      <th>Enthalpy</th>\n",
       "    </tr>\n",
       "  </thead>\n",
       "  <tbody>\n",
       "    <tr>\n",
       "      <th>0</th>\n",
       "      <td>45</td>\n",
       "      <td>1.98</td>\n",
       "      <td>0.2</td>\n",
       "      <td>31.433333</td>\n",
       "      <td>45.633333</td>\n",
       "      <td>32.800000</td>\n",
       "      <td>31.733333</td>\n",
       "      <td>14.833333</td>\n",
       "      <td>20.500000</td>\n",
       "      <td>0.208167</td>\n",
       "      <td>0.152753</td>\n",
       "      <td>0.300000</td>\n",
       "      <td>0.208167</td>\n",
       "      <td>0.057735</td>\n",
       "      <td>0.100000</td>\n",
       "      <td>134.919467</td>\n",
       "    </tr>\n",
       "    <tr>\n",
       "      <th>1</th>\n",
       "      <td>45</td>\n",
       "      <td>1.98</td>\n",
       "      <td>0.4</td>\n",
       "      <td>34.466667</td>\n",
       "      <td>45.500000</td>\n",
       "      <td>36.833333</td>\n",
       "      <td>35.833333</td>\n",
       "      <td>14.666667</td>\n",
       "      <td>20.566667</td>\n",
       "      <td>0.057735</td>\n",
       "      <td>0.100000</td>\n",
       "      <td>0.152753</td>\n",
       "      <td>0.057735</td>\n",
       "      <td>0.057735</td>\n",
       "      <td>0.057735</td>\n",
       "      <td>1162.783663</td>\n",
       "    </tr>\n",
       "    <tr>\n",
       "      <th>2</th>\n",
       "      <td>45</td>\n",
       "      <td>1.98</td>\n",
       "      <td>0.6</td>\n",
       "      <td>36.700000</td>\n",
       "      <td>46.533333</td>\n",
       "      <td>39.533333</td>\n",
       "      <td>39.066667</td>\n",
       "      <td>14.633333</td>\n",
       "      <td>20.633333</td>\n",
       "      <td>0.100000</td>\n",
       "      <td>0.057735</td>\n",
       "      <td>0.057735</td>\n",
       "      <td>0.057735</td>\n",
       "      <td>0.057735</td>\n",
       "      <td>0.152753</td>\n",
       "      <td>3007.362581</td>\n",
       "    </tr>\n",
       "    <tr>\n",
       "      <th>3</th>\n",
       "      <td>45</td>\n",
       "      <td>1.98</td>\n",
       "      <td>0.8</td>\n",
       "      <td>38.133333</td>\n",
       "      <td>47.500000</td>\n",
       "      <td>41.333333</td>\n",
       "      <td>41.000000</td>\n",
       "      <td>14.733333</td>\n",
       "      <td>20.400000</td>\n",
       "      <td>0.152753</td>\n",
       "      <td>0.100000</td>\n",
       "      <td>0.057735</td>\n",
       "      <td>0.100000</td>\n",
       "      <td>0.057735</td>\n",
       "      <td>0.100000</td>\n",
       "      <td>4851.969280</td>\n",
       "    </tr>\n",
       "    <tr>\n",
       "      <th>4</th>\n",
       "      <td>45</td>\n",
       "      <td>1.98</td>\n",
       "      <td>1.0</td>\n",
       "      <td>39.200000</td>\n",
       "      <td>45.566667</td>\n",
       "      <td>41.700000</td>\n",
       "      <td>41.333333</td>\n",
       "      <td>14.900000</td>\n",
       "      <td>20.566667</td>\n",
       "      <td>0.100000</td>\n",
       "      <td>0.057735</td>\n",
       "      <td>0.100000</td>\n",
       "      <td>0.057735</td>\n",
       "      <td>0.000000</td>\n",
       "      <td>0.152753</td>\n",
       "      <td>4514.064740</td>\n",
       "    </tr>\n",
       "  </tbody>\n",
       "</table>\n",
       "</div>"
      ],
      "text/plain": [
       "   Set Point Temp  Gas Flow  Liquid Flow  Outlet Water  Inlet Water   \\\n",
       "0              45      1.98          0.2     31.433333     45.633333   \n",
       "1              45      1.98          0.4     34.466667     45.500000   \n",
       "2              45      1.98          0.6     36.700000     46.533333   \n",
       "3              45      1.98          0.8     38.133333     47.500000   \n",
       "4              45      1.98          1.0     39.200000     45.566667   \n",
       "\n",
       "   Outlet Air - Dry Bulb  Outlet Air - Wet Bulb  Inlet Air - Wet Bulb  \\\n",
       "0              32.800000              31.733333             14.833333   \n",
       "1              36.833333              35.833333             14.666667   \n",
       "2              39.533333              39.066667             14.633333   \n",
       "3              41.333333              41.000000             14.733333   \n",
       "4              41.700000              41.333333             14.900000   \n",
       "\n",
       "   Inlet Air - Dry Bulb  Outlet Water - std  Inlet Water  - std  \\\n",
       "0             20.500000            0.208167            0.152753   \n",
       "1             20.566667            0.057735            0.100000   \n",
       "2             20.633333            0.100000            0.057735   \n",
       "3             20.400000            0.152753            0.100000   \n",
       "4             20.566667            0.100000            0.057735   \n",
       "\n",
       "   Outlet Air - Dry Bulb - std  Outlet Air - Wet Bulb - std  \\\n",
       "0                     0.300000                     0.208167   \n",
       "1                     0.152753                     0.057735   \n",
       "2                     0.057735                     0.057735   \n",
       "3                     0.057735                     0.100000   \n",
       "4                     0.100000                     0.057735   \n",
       "\n",
       "   Inlet Air - Wet Bulb - std  Inlet Air - Dry Bulb - std     Enthalpy  \n",
       "0                    0.057735                    0.100000   134.919467  \n",
       "1                    0.057735                    0.057735  1162.783663  \n",
       "2                    0.057735                    0.152753  3007.362581  \n",
       "3                    0.057735                    0.100000  4851.969280  \n",
       "4                    0.000000                    0.152753  4514.064740  "
      ]
     },
     "execution_count": 90,
     "metadata": {},
     "output_type": "execute_result"
    }
   ],
   "source": [
    "df.head()"
   ]
  },
  {
   "cell_type": "code",
   "execution_count": 100,
   "metadata": {},
   "outputs": [
    {
     "data": {
      "text/plain": [
       "Set Point Temp                 45.000000\n",
       "Gas Flow                        3.890000\n",
       "Liquid Flow                     0.200000\n",
       "Outlet Water                   25.866667\n",
       "Inlet Water                    44.066667\n",
       "Outlet Air - Dry Bulb          28.133333\n",
       "Outlet Air - Wet Bulb          27.000000\n",
       "Inlet Air - Wet Bulb           15.066667\n",
       "Inlet Air - Dry Bulb           20.900000\n",
       "Outlet Water - std              0.152753\n",
       "Inlet Water  - std              0.057735\n",
       "Outlet Air - Dry Bulb - std     0.057735\n",
       "Outlet Air - Wet Bulb - std     0.100000\n",
       "Inlet Air - Wet Bulb - std      0.152753\n",
       "Inlet Air - Dry Bulb - std      0.000000\n",
       "Name: 8, dtype: float64"
      ]
     },
     "execution_count": 100,
     "metadata": {},
     "output_type": "execute_result"
    }
   ],
   "source": [
    "df.iloc[8]"
   ]
  },
  {
   "cell_type": "code",
   "execution_count": null,
   "metadata": {},
   "outputs": [],
   "source": [
    "h_plots = plt.subplots(1, 3)\n"
   ]
  }
 ],
 "metadata": {
  "kernelspec": {
   "display_name": "Python 3.8.1 64-bit",
   "language": "python",
   "name": "python38164bit26ec8dace3434765add4cc87e93c1379"
  },
  "language_info": {
   "codemirror_mode": {
    "name": "ipython",
    "version": 3
   },
   "file_extension": ".py",
   "mimetype": "text/x-python",
   "name": "python",
   "nbconvert_exporter": "python",
   "pygments_lexer": "ipython3",
   "version": "3.8.1"
  }
 },
 "nbformat": 4,
 "nbformat_minor": 4
}
