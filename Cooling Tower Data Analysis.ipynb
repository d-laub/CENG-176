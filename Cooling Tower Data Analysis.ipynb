{
 "cells": [
  {
   "cell_type": "markdown",
   "metadata": {},
   "source": [
    "# Cooling Tower Data Analysis\n",
    "### Importing libraries"
   ]
  },
  {
   "cell_type": "code",
   "execution_count": 1,
   "metadata": {},
   "outputs": [],
   "source": [
    "import pandas as pd\n",
    "import numpy as np\n",
    "import scipy.integrate as intgr\n",
    "from scipy.optimize import curve_fit\n",
    "import matplotlib.pyplot as plt\n",
    "import seaborn as sns"
   ]
  },
  {
   "cell_type": "markdown",
   "metadata": {},
   "source": [
    "## Data preprocessing\n",
    "### Import and clean data\n",
    "I had combined all the data from day 1 and added two columns, Group and Trial. These columns ended up being trivial as the liquid flow sufficed to group the data. I then aggregated by liquid flow and calculated means and standard deviations, compiling these values in a new dataframe."
   ]
  },
  {
   "cell_type": "markdown",
   "metadata": {},
   "source": [
    "### Units\n",
    "|  | Set Point Temp | Gas Flow | Liquid Flow | Outlet Water | Inlet Water | Outlet Air - Dry Bulb | Outlet Air - Wet Bulb | Inlet Air - Wet Bulb | Inlet Air - Dry Bulb |\n",
    "|--------|----------------|----------|-------------|--------------|-------------|-----------------------|-----------------------|----------------------|----------------------|\n",
    "| Raw | $^\\circ$ C | m/s | gal/min | $^\\circ$ C | $^\\circ$ C | $^\\circ$ C | $^\\circ$ C | $^\\circ$ C | $^\\circ$ C |\n",
    "| Output | $^\\circ$ C | kg/s | kg/s | $^\\circ$ C | $^\\circ$ C | $^\\circ$ C | $^\\circ$ C | $^\\circ$ C | $^\\circ$ C |\n",
    "\n",
    "Most units can be readily converted to the desired output, with the exception of gas flow. Converting gas flow in m/s to kg/s requires the find the density of the inlet air, which is humid.\n",
    "\n",
    "Perry's Handbook: Find saturation vapor pressure $p_{wb}$ at wet-bulb temperature $T_{wb}$ from Eq. (12-4). Find actual vapor\n",
    "pressure $p$ at dry-bulb temperature $T$ from psychrometer equation (12-11). Find humid air density $\\rho_g$ by\n",
    "conversion from $p$ and $T$ (Table 12-2). All units in SI.\n",
    "\n",
    "**12-4:** $\\ln p_{wb} = −6096.9385T_{wb}^{−1} + 21.2409642 − 2.711193\\times10^{−2}T_{wb} + 1.673952\\times10^{−5}T_{wb}^2 + 2.433502 \\ln T_{wb}$\n",
    "\n",
    "where $T_{wb}$ is in Kelvin, $p_{wb}$ is in pascals.\n",
    "\n",
    "**12-11:** $p = p_{wb} − AP(T − T_{wb})$\n",
    "\n",
    "where $A$ is the psychrometric coefficient and $P$ is atmosphere pressure in Pa.\n",
    "\n",
    "**12-11a:** $A = 6.5\\times10^{−4}(1 + 0.000944T_{wb})$\n",
    "\n",
    "Eq. 12-11a is valid for $T_{wb}$ up to 30 $^\\circ$C.\n",
    "\n",
    "**Table 12-2**: $\\rho_g = \\frac{P-0.378p}{287.1T}$\n",
    "\n",
    "where $\\rho_g$ is the humid air density (kg/m^3).\n",
    "\n",
    "For Day 1 of this lab, Feb. 12, 2020, atmospheric pressure $P$ was 30.12 \"Hg."
   ]
  },
  {
   "cell_type": "code",
   "execution_count": 2,
   "metadata": {},
   "outputs": [],
   "source": [
    "def get_rho(T, T_wb):\n",
    "    # T = Inlet Air - Dry Bulb [Kelvin]\n",
    "    # T_wb = Inlet Air - Wet Bulb [Kelvin]\n",
    "    # P = 30.12 \"Hg on Day 1 = 101998.03 Pa\n",
    "    T = T+273.15 # convert Celsius to Kelvin\n",
    "    T_wb = T_wb+273.15 # convert...\n",
    "    P = 101998.03\n",
    "    p_wb = np.exp(-6096.9385*T_wb**-1 + \\\n",
    "                  21.2409642 - 2.711193*10**-2*T_wb + \\\n",
    "                  1.673952*10**-5*T**2 + \\\n",
    "                  2.433502*np.log(T_wb))\n",
    "    A = 6.5*10**-4*(1 + 0.000944*T_wb)\n",
    "    p = p_wb - A*P*(T - T_wb)\n",
    "    rho = (P-0.378*p)/(287.1*T)\n",
    "    return rho\n",
    "\n",
    "def get_ma(v, T, T_wb):\n",
    "    rho = get_rho(T, T_wb) # kg/m^3\n",
    "    V = v*np.pi/4*0.095**2 # m^3/s\n",
    "    return rho*V # kg/s"
   ]
  },
  {
   "cell_type": "code",
   "execution_count": 3,
   "metadata": {
    "scrolled": true
   },
   "outputs": [
    {
     "data": {
      "text/html": [
       "<div>\n",
       "<style scoped>\n",
       "    .dataframe tbody tr th:only-of-type {\n",
       "        vertical-align: middle;\n",
       "    }\n",
       "\n",
       "    .dataframe tbody tr th {\n",
       "        vertical-align: top;\n",
       "    }\n",
       "\n",
       "    .dataframe thead th {\n",
       "        text-align: right;\n",
       "    }\n",
       "</style>\n",
       "<table border=\"1\" class=\"dataframe\">\n",
       "  <thead>\n",
       "    <tr style=\"text-align: right;\">\n",
       "      <th></th>\n",
       "      <th>Set Point Temp</th>\n",
       "      <th>Gas Flow</th>\n",
       "      <th>Liquid Flow</th>\n",
       "      <th>Outlet Water</th>\n",
       "      <th>Inlet Water</th>\n",
       "      <th>Outlet Air - Dry Bulb</th>\n",
       "      <th>Outlet Air - Wet Bulb</th>\n",
       "      <th>Inlet Air - Wet Bulb</th>\n",
       "      <th>Inlet Air - Dry Bulb</th>\n",
       "      <th>Outlet Water - std</th>\n",
       "      <th>Inlet Water - std</th>\n",
       "      <th>Outlet Air - Dry Bulb - std</th>\n",
       "      <th>Outlet Air - Wet Bulb - std</th>\n",
       "      <th>Inlet Air - Wet Bulb - std</th>\n",
       "      <th>Inlet Air - Dry Bulb - std</th>\n",
       "      <th>L/G</th>\n",
       "    </tr>\n",
       "  </thead>\n",
       "  <tbody>\n",
       "    <tr>\n",
       "      <th>0</th>\n",
       "      <td>45</td>\n",
       "      <td>0.016898</td>\n",
       "      <td>0.012580</td>\n",
       "      <td>31.433333</td>\n",
       "      <td>45.633333</td>\n",
       "      <td>32.800000</td>\n",
       "      <td>31.733333</td>\n",
       "      <td>14.833333</td>\n",
       "      <td>20.500000</td>\n",
       "      <td>0.208167</td>\n",
       "      <td>0.152753</td>\n",
       "      <td>0.300000</td>\n",
       "      <td>0.208167</td>\n",
       "      <td>0.057735</td>\n",
       "      <td>0.100000</td>\n",
       "      <td>0.744496</td>\n",
       "    </tr>\n",
       "    <tr>\n",
       "      <th>1</th>\n",
       "      <td>45</td>\n",
       "      <td>0.016896</td>\n",
       "      <td>0.025160</td>\n",
       "      <td>34.466667</td>\n",
       "      <td>45.500000</td>\n",
       "      <td>36.833333</td>\n",
       "      <td>35.833333</td>\n",
       "      <td>14.666667</td>\n",
       "      <td>20.566667</td>\n",
       "      <td>0.057735</td>\n",
       "      <td>0.100000</td>\n",
       "      <td>0.152753</td>\n",
       "      <td>0.057735</td>\n",
       "      <td>0.057735</td>\n",
       "      <td>0.057735</td>\n",
       "      <td>1.489137</td>\n",
       "    </tr>\n",
       "    <tr>\n",
       "      <th>2</th>\n",
       "      <td>45</td>\n",
       "      <td>0.016893</td>\n",
       "      <td>0.037741</td>\n",
       "      <td>36.700000</td>\n",
       "      <td>46.533333</td>\n",
       "      <td>39.533333</td>\n",
       "      <td>39.066667</td>\n",
       "      <td>14.633333</td>\n",
       "      <td>20.633333</td>\n",
       "      <td>0.100000</td>\n",
       "      <td>0.057735</td>\n",
       "      <td>0.057735</td>\n",
       "      <td>0.057735</td>\n",
       "      <td>0.057735</td>\n",
       "      <td>0.152753</td>\n",
       "      <td>2.234126</td>\n",
       "    </tr>\n",
       "    <tr>\n",
       "      <th>3</th>\n",
       "      <td>45</td>\n",
       "      <td>0.016904</td>\n",
       "      <td>0.050321</td>\n",
       "      <td>38.133333</td>\n",
       "      <td>47.500000</td>\n",
       "      <td>41.333333</td>\n",
       "      <td>41.000000</td>\n",
       "      <td>14.733333</td>\n",
       "      <td>20.400000</td>\n",
       "      <td>0.152753</td>\n",
       "      <td>0.100000</td>\n",
       "      <td>0.057735</td>\n",
       "      <td>0.100000</td>\n",
       "      <td>0.057735</td>\n",
       "      <td>0.100000</td>\n",
       "      <td>2.976842</td>\n",
       "    </tr>\n",
       "    <tr>\n",
       "      <th>4</th>\n",
       "      <td>45</td>\n",
       "      <td>0.016893</td>\n",
       "      <td>0.062901</td>\n",
       "      <td>39.200000</td>\n",
       "      <td>45.566667</td>\n",
       "      <td>41.700000</td>\n",
       "      <td>41.333333</td>\n",
       "      <td>14.900000</td>\n",
       "      <td>20.566667</td>\n",
       "      <td>0.100000</td>\n",
       "      <td>0.057735</td>\n",
       "      <td>0.100000</td>\n",
       "      <td>0.057735</td>\n",
       "      <td>0.000000</td>\n",
       "      <td>0.152753</td>\n",
       "      <td>3.723431</td>\n",
       "    </tr>\n",
       "  </tbody>\n",
       "</table>\n",
       "</div>"
      ],
      "text/plain": [
       "   Set Point Temp  Gas Flow  Liquid Flow  Outlet Water  Inlet Water  \\\n",
       "0              45  0.016898     0.012580     31.433333    45.633333   \n",
       "1              45  0.016896     0.025160     34.466667    45.500000   \n",
       "2              45  0.016893     0.037741     36.700000    46.533333   \n",
       "3              45  0.016904     0.050321     38.133333    47.500000   \n",
       "4              45  0.016893     0.062901     39.200000    45.566667   \n",
       "\n",
       "   Outlet Air - Dry Bulb  Outlet Air - Wet Bulb  Inlet Air - Wet Bulb  \\\n",
       "0              32.800000              31.733333             14.833333   \n",
       "1              36.833333              35.833333             14.666667   \n",
       "2              39.533333              39.066667             14.633333   \n",
       "3              41.333333              41.000000             14.733333   \n",
       "4              41.700000              41.333333             14.900000   \n",
       "\n",
       "   Inlet Air - Dry Bulb  Outlet Water - std  Inlet Water - std  \\\n",
       "0             20.500000            0.208167           0.152753   \n",
       "1             20.566667            0.057735           0.100000   \n",
       "2             20.633333            0.100000           0.057735   \n",
       "3             20.400000            0.152753           0.100000   \n",
       "4             20.566667            0.100000           0.057735   \n",
       "\n",
       "   Outlet Air - Dry Bulb - std  Outlet Air - Wet Bulb - std  \\\n",
       "0                     0.300000                     0.208167   \n",
       "1                     0.152753                     0.057735   \n",
       "2                     0.057735                     0.057735   \n",
       "3                     0.057735                     0.100000   \n",
       "4                     0.100000                     0.057735   \n",
       "\n",
       "   Inlet Air - Wet Bulb - std  Inlet Air - Dry Bulb - std       L/G  \n",
       "0                    0.057735                    0.100000  0.744496  \n",
       "1                    0.057735                    0.057735  1.489137  \n",
       "2                    0.057735                    0.152753  2.234126  \n",
       "3                    0.057735                    0.100000  2.976842  \n",
       "4                    0.000000                    0.152753  3.723431  "
      ]
     },
     "execution_count": 3,
     "metadata": {},
     "output_type": "execute_result"
    }
   ],
   "source": [
    "df = pd.read_csv(\"Cooling Tower Day 1 - All.csv\")\n",
    "\n",
    "# Drop extra columns\n",
    "df = df.drop(columns=['Group', 'Trial'])\n",
    "\n",
    "# Aggregate for mean and std\n",
    "df1 = df.groupby(['Set Point Temp','Gas Flow', 'Liquid Flow']).agg('mean').reset_index(drop=True)\n",
    "df2 = df.groupby(['Set Point Temp','Gas Flow', 'Liquid Flow']).agg('std').reset_index(drop=True)\n",
    "df2 = df2.rename(lambda x: x+' - std', axis=1)\n",
    "\n",
    "# Recombine\n",
    "df = df[['Set Point Temp', 'Gas Flow', 'Liquid Flow']].drop_duplicates().reset_index()\n",
    "df = pd.concat([df, df1, df2], axis=1).drop(columns='index')\n",
    "\n",
    "# Unit conversions\n",
    "# Operating over a <20 degree range for water, therefore neglecting thermal expansion\n",
    "df['Liquid Flow'] = df['Liquid Flow'].apply(lambda x: x*6.30902*10**-5*997)\n",
    "df['Gas Flow'] = df.apply(lambda x: get_ma(x['Gas Flow'], x['Inlet Air - Dry Bulb'], x['Inlet Air - Wet Bulb']), axis=1)\n",
    "df['L/G'] = df['Liquid Flow']/df['Gas Flow']\n",
    "df.head()"
   ]
  },
  {
   "cell_type": "markdown",
   "metadata": {},
   "source": [
    "### General equations\n",
    "Defined as many functions as possible. i.e. Those that won't change.\n",
    "* $merkel$: Merkel equation, form that is readily integrated, i.e. instanteous evaluation\n",
    "* $hsat$: Enthalpy of saturated air, form for fit equation"
   ]
  },
  {
   "cell_type": "code",
   "execution_count": 4,
   "metadata": {},
   "outputs": [],
   "source": [
    "def hsat(T, a, b):\n",
    "    return a*np.exp(b*T)"
   ]
  },
  {
   "cell_type": "markdown",
   "metadata": {},
   "source": [
    "### Fitting $hsat$ and plotting result"
   ]
  },
  {
   "cell_type": "code",
   "execution_count": 5,
   "metadata": {},
   "outputs": [],
   "source": [
    "# Empirical/fit data\n",
    "hs_T = np.array([40, 50, 60, 70, 80, 90, 100, 110, 120, 130]) # F\n",
    "hs_h = np.array([15.230, 20.301, 26.46, 34.09, 43.69, 55.93, 71.73, 92.34, 119.54, 155.9]) # BTU/lb dry air\n",
    "\n",
    "def Fah2Cel(T):\n",
    "    return (T-32)*5/9\n",
    "def BTUpound2kJkg(x):\n",
    "    return x*2.326\n",
    "\n",
    "hs_T = Fah2Cel(hs_T)\n",
    "hs_h = BTUpound2kJkg(hs_h)\n",
    "\n",
    "# Fitting procedure\n",
    "hsat_fit, hsat_cov = curve_fit(hsat, hs_T, hs_h, [0, 0])\n",
    "fit_err = np.sqrt(np.diagonal(hsat_cov))\n",
    "\n",
    "# Get fitted curve\n",
    "hs_Tdata = np.linspace(hs_T[0], hs_T[-1], 100)\n",
    "hs_hdata = hsat(hs_Tdata, *hsat_fit)\n",
    "hs_h_errp = hsat(hs_Tdata, *hsat_fit+fit_err)\n",
    "hs_h_errn = hsat(hs_Tdata, *hsat_fit-fit_err)"
   ]
  },
  {
   "cell_type": "code",
   "execution_count": 6,
   "metadata": {},
   "outputs": [
    {
     "data": {
      "image/png": "[encoded data removed]",
      "text/plain": [
       "<Figure size 432x288 with 1 Axes>"
      ]
     },
     "metadata": {
      "needs_background": "light"
     },
     "output_type": "display_data"
    }
   ],
   "source": [
    "# Plot data and fitted curve\n",
    "plt.figure(1)\n",
    "plt.plot(hs_T, hs_h, 'b.')\n",
    "plt.plot(hs_Tdata, hs_hdata, 'r-', linewidth=.5)\n",
    "plt.xlabel('Temperature $^\\circ$C')\n",
    "plt.ylabel('h$_s$ kJ/kg dry air')\n",
    "plt.legend(labels=['data', 'fit'])\n",
    "plt.fill_between(hs_Tdata, hs_h_errp, hs_h_errn, color='r', alpha=0.3)\n",
    "plt.show()"
   ]
  },
  {
   "cell_type": "markdown",
   "metadata": {},
   "source": [
    "### Define air operating-line\n",
    "Now that $hsat$ is fitted, $enthalpy$ can be defined"
   ]
  },
  {
   "cell_type": "code",
   "execution_count": 7,
   "metadata": {},
   "outputs": [],
   "source": [
    "def enthalpy(T, Tin, Tout, LG):\n",
    "    # Cp water = 4.182 kJ/kg C\n",
    "    # Tout = Outlet water temperature [Celsius]\n",
    "    # T = Water Temp [Celsius]\n",
    "    # Tin = Wet bulb temperature in [Celsius]\n",
    "    hin = hsat(Tin, *hsat_fit)\n",
    "    h = hin + LG * 4.182 * (T-Tout)\n",
    "    return h # [kJ/kg]"
   ]
  },
  {
   "cell_type": "markdown",
   "metadata": {},
   "source": [
    "### Calculate NTU and add to Dataframes"
   ]
  },
  {
   "cell_type": "code",
   "execution_count": 8,
   "metadata": {},
   "outputs": [],
   "source": [
    "def merkel(T, Tin, Tout, LG):\n",
    "    h = enthalpy(T, Tin, Tout, LG)\n",
    "    hs = hsat(T, *hsat_fit)\n",
    "#     print(h, hs)\n",
    "    return 4.182/(hs-h)\n",
    "\n",
    "g1 = df.iloc[0:8, :].reset_index()\n",
    "g2 = df.iloc[8:16, :].reset_index()\n",
    "g3 = df.iloc[16:24, :].reset_index()\n",
    "for g in [g1, g2, g3]:\n",
    "    NTU = g.apply(lambda x: intgr.quad(merkel, x['Outlet Water'], x['Inlet Water'],\n",
    "                                 args=(x['Inlet Air - Wet Bulb'], x['Outlet Water'], x['L/G'])),\n",
    "             axis=1)\n",
    "    NTU = NTU.apply(lambda x: x[0])\n",
    "    g['NTU'] = NTU"
   ]
  },
  {
   "cell_type": "code",
   "execution_count": 9,
   "metadata": {},
   "outputs": [
    {
     "data": {
      "image/png": "[encoded data removed]",
      "text/plain": [
       "<Figure size 432x288 with 1 Axes>"
      ]
     },
     "metadata": {
      "needs_background": "light"
     },
     "output_type": "display_data"
    }
   ],
   "source": [
    "plt.figure(2)\n",
    "for g in [g1, g2, g3]:\n",
    "    plt.plot(g['L/G'], g['NTU'])\n",
    "    plt.xlabel('L/G ratio')\n",
    "    plt.ylabel('NTU')\n",
    "plt.legend(labels=['G = 16.9 g/s', 'G = 33.2 g/s', 'G = 61.3 g/s'])\n",
    "plt.show()"
   ]
  },
  {
   "cell_type": "code",
   "execution_count": null,
   "metadata": {},
   "outputs": [],
   "source": []
  }
 ],
 "metadata": {
  "kernelspec": {
   "display_name": "Python 3.8.1 64-bit",
   "language": "python",
   "name": "python38164bit26ec8dace3434765add4cc87e93c1379"
  },
  "language_info": {
   "codemirror_mode": {
    "name": "ipython",
    "version": 3
   },
   "file_extension": ".py",
   "mimetype": "text/x-python",
   "name": "python",
   "nbconvert_exporter": "python",
   "pygments_lexer": "ipython3",
   "version": "3.8.1"
  }
 },
 "nbformat": 4,
 "nbformat_minor": 4
}
