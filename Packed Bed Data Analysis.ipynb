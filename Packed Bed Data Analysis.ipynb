{
 "cells": [
  {
   "cell_type": "markdown",
   "metadata": {},
   "source": [
    "# Data Analysis: Packed Bed Pressure Drop\n",
    "Author: David Laub  \n",
    "Class: CENG 176B  \n",
    "Date: 2020:04:19\n",
    "\n",
    "# Fixed Parameters\n",
    "* Bed ID = 44 mm\n",
    "* Glass and Cu(s) are solid.\n",
    "* Cu(m) & Cu(L) are plastic with copper coating.\n",
    "\n",
    "## Instrument Errors\n",
    "### Volumetric Measurements\n",
    "* Mass scale: +/- 0.05 g\n",
    "* Volumetric Cylinders:\n",
    "    * Glass & Cu(s): +/- 0.1 mL\n",
    "    * Cu(m) & Cu(L): +/- 1.4 mL\n",
    "\n",
    "### Diameter Measurements (glass & Cu(s))\n",
    "* Mass scale: +/- 0.00005 g\n",
    "* Caliper: +/- 0.005 mm\n",
    "\n",
    "### Pressure Drop\n",
    "* Flowmeter: +/- 0.05 gpm\n",
    "* Manometers: +/- 0.05 cm\n",
    "\n",
    "## Experimental Setups\n",
    "Cu(s):\n",
    "* Mass: 1749.4 +/- 0.05 g\n",
    "* Height: 24 +/- 0.05 cm\n",
    "\n",
    "Cu(m):\n",
    "* Mass: 585 +/- 0.05 g\n",
    "* Height: 46 +/- 0.05 cm\n",
    "\n",
    "Cu(L):\n",
    "* Mass: 429.3 g +/- 0.05 g\n",
    "* Height: 39 cm +/- 0.05 cm"
   ]
  },
  {
   "cell_type": "markdown",
   "metadata": {},
   "source": [
    "# Import Libraries"
   ]
  },
  {
   "cell_type": "code",
   "execution_count": null,
   "metadata": {},
   "outputs": [],
   "source": [
    "from IPython.core.interactiveshell import InteractiveShell\n",
    "InteractiveShell.ast_node_interactivity = \"all\" # Enable interactive shells throughout notebook\n",
    "import numpy as np\n",
    "import scipy as sp\n",
    "import pandas as pd\n",
    "from uncertainties import ufloat\n",
    "from uncertainties import unumpy as unp\n",
    "import matplotlib.pyplot as plt"
   ]
  },
  {
   "cell_type": "markdown",
   "metadata": {},
   "source": [
    "# Fetching Data\n",
    "\n",
    "Readings without any packing.\n",
    "* Cal1: Applicable to Cu(m) = dat1\n",
    "* Cal2: Applicable to Cu(s) & Cu(L) = dat2"
   ]
  },
  {
   "cell_type": "code",
   "execution_count": null,
   "metadata": {},
   "outputs": [],
   "source": [
    "df_vol = pd.read_csv('Data/PBPD Volumetric.csv', usecols=range(5))\n",
    "df_dia = pd.read_csv('Data/PBPD Diameter.csv')\n",
    "df_cal1 = pd.read_csv('Data/PBPD Calibration 1.csv', header=0, names=['Q (gpm)', 'Left (cm)', 'Right (cm)'])\n",
    "df_dat1 = pd.read_csv('Data/PBPD Data 1.csv', header=0, names=['Q (gpm)', 'Left (cm)', 'Right (cm)', 'Packing'])\n",
    "df_cal2 = pd.read_csv('Data/PBPD Calibration 2.csv', header=0, names=['Q (gpm)', 'Left (cm)', 'Right (cm)'])\n",
    "df_dat2 = pd.read_csv('Data/PBPD Data 2.csv', header=0, names=['Q (gpm)', 'Left (cm)', 'Right (cm)', 'Packing'])"
   ]
  },
  {
   "cell_type": "markdown",
   "metadata": {},
   "source": [
    "### Data Inspection\n",
    "* drop NaNs"
   ]
  },
  {
   "cell_type": "code",
   "execution_count": null,
   "metadata": {},
   "outputs": [],
   "source": [
    "# df_vol.head()\n",
    "# df_dia.head()\n",
    "# df_cal1.head()\n",
    "# df_dat1.head()\n",
    "# df_cal2.head()\n",
    "# df_dat2.head()\n",
    "\n",
    "# df_vol.isnull().values.any()\n",
    "# df_dia.isnull().values.any()\n",
    "# df_cal1.isnull().values.any()\n",
    "# df_dat1.isnull().values.any() # has null values\n",
    "# df_cal2.isnull().values.any()\n",
    "# df_dat2.isnull().values.any()"
   ]
  },
  {
   "cell_type": "code",
   "execution_count": null,
   "metadata": {},
   "outputs": [],
   "source": [
    "df_dat1.dropna(inplace=True)"
   ]
  },
  {
   "cell_type": "markdown",
   "metadata": {},
   "source": [
    "# Bulk Analysis\n",
    "\n",
    "## Converting to ufloat with error"
   ]
  },
  {
   "cell_type": "code",
   "execution_count": null,
   "metadata": {},
   "outputs": [],
   "source": [
    "vol1_err = 0.1 # mL\n",
    "vol2_err = 1.4 # mL\n",
    "m1_err = 0.05 # g\n",
    "m2_err = 5e-5 # g\n",
    "l_err = 0.005 # mm\n",
    "Q_err = 0.05 # gpm\n",
    "z_err = 0.05 # cm"
   ]
  },
  {
   "cell_type": "code",
   "execution_count": null,
   "metadata": {},
   "outputs": [],
   "source": [
    "df_vol.loc[:1, 'V_0'] = df_vol.loc[:1, 'V_0'].apply(lambda x: ufloat(x, vol1_err))\n",
    "df_vol.loc[:1, 'V_F'] = df_vol.loc[:1, 'V_F'].apply(lambda x: ufloat(x, vol1_err))\n",
    "df_vol.loc[:, 'Mass-V'] = df_vol.loc[:, 'Mass-V'].apply(lambda x: ufloat(x, m1_err))\n",
    "df_vol.loc[2:, 'V_0'] = df_vol.loc[2:, 'V_0'].apply(lambda x: ufloat(x, vol2_err))\n",
    "\n",
    "df_dia.loc[:, 'Dish (g)'] = df_dia.loc[:, 'Dish (g)'].apply(lambda x: ufloat(x, m2_err))\n",
    "df_dia.loc[:, 'Diameter (mm)'] = df_dia.loc[:, 'Diameter (mm)'].apply(lambda x: ufloat(x, l_err))\n",
    "df_dia.loc[:, 'Mass of Five (g)'] = df_dia.loc[:, 'Mass of Five (g)'].apply(lambda x: ufloat(x, m2_err))\n",
    "\n",
    "df_cal1.loc[:, 'Q (gpm)'] = df_cal1.loc[:, 'Q (gpm)'].apply(lambda x: ufloat(x, Q_err))\n",
    "df_cal1.loc[:, 'Left (cm)'] = df_cal1.loc[:, 'Left (cm)'].apply(lambda x: ufloat(x, z_err))\n",
    "df_cal1.loc[:, 'Right (cm)'] = df_cal1.loc[:, 'Right (cm)'].apply(lambda x: ufloat(x, z_err))\n",
    "\n",
    "df_dat1.loc[:, 'Q (gpm)'] = df_dat1.loc[:, 'Q (gpm)'].apply(lambda x: ufloat(x, Q_err))\n",
    "df_dat1.loc[:, 'Left (cm)'] = df_dat1.loc[:, 'Left (cm)'].apply(lambda x: ufloat(x, z_err))\n",
    "df_dat1.loc[:, 'Right (cm)'] = df_dat1.loc[:, 'Right (cm)'].apply(lambda x: ufloat(x, z_err))\n",
    "\n",
    "df_cal2.loc[:, 'Q (gpm)'] = df_cal2.loc[:, 'Q (gpm)'].apply(lambda x: ufloat(x, Q_err))\n",
    "df_cal2.loc[:, 'Left (cm)'] = df_cal2.loc[:, 'Left (cm)'].apply(lambda x: ufloat(x, z_err))\n",
    "df_cal2.loc[:, 'Right (cm)'] = df_cal2.loc[:, 'Right (cm)'].apply(lambda x: ufloat(x, z_err))\n",
    "\n",
    "df_dat2.loc[:, 'Q (gpm)'] = df_dat2.loc[:, 'Q (gpm)'].apply(lambda x: ufloat(x, Q_err))\n",
    "df_dat2.loc[:, 'Left (cm)'] = df_dat2.loc[:, 'Left (cm)'].apply(lambda x: ufloat(x, z_err))\n",
    "df_dat2.loc[:, 'Right (cm)'] = df_dat2.loc[:, 'Right (cm)'].apply(lambda x: ufloat(x, z_err))"
   ]
  },
  {
   "cell_type": "markdown",
   "metadata": {},
   "source": [
    "## Get packing particle density & average diameter"
   ]
  },
  {
   "cell_type": "code",
   "execution_count": null,
   "metadata": {},
   "outputs": [],
   "source": [
    "df_vol['V'] = df_vol['V_F']-df_vol['V_0'] # mL\n",
    "df_vol['V'] = 1e-6*df_vol['V'] # m^3\n",
    "df_vol['rho'] = 1e-3*df_vol['Mass-V']/df_vol['V'] # kg/m^3 = g/L"
   ]
  },
  {
   "cell_type": "code",
   "execution_count": null,
   "metadata": {
    "scrolled": true
   },
   "outputs": [],
   "source": [
    "CuS_D = 1e-3*sum(df_dia.loc[:4, 'Diameter (mm)'])/5 # m, average diameter\n",
    "CuS_V = 4/3*np.pi*(CuS_D/2)**3 # m^3, average volume\n",
    "CuS_m = 1e-3*(df_dia.loc[0, 'Mass of Five (g)']-df_dia.loc[0, 'Dish (g)'])/5 # kg, average mass\n",
    "CuS_rho = CuS_m/CuS_V # kg/m^3\n",
    "CuM_rho = df_vol.iloc[2, -1] # kg/m^3\n",
    "CuL_rho = df_vol.iloc[3, -1] # kg/m^3"
   ]
  },
  {
   "cell_type": "code",
   "execution_count": null,
   "metadata": {},
   "outputs": [],
   "source": [
    "# 4/3*pi*(D/2)^3 = x\n",
    "# D = (x*3/4/pi)**(1/3)*2\n",
    "CuM_D = (df_vol.iloc[2, -2]/100*3/4/np.pi)**(1/3)*2 # m, average diameter\n",
    "CuL_D = (df_vol.iloc[3, -2]/100*3/4/np.pi)**(1/3)*2 # m, average diameter"
   ]
  },
  {
   "cell_type": "markdown",
   "metadata": {},
   "source": [
    "**Note:** When using ufloat, certain functions such as mean() must be calculated more granularly. Also, math functions such as sin() have to be imported through umath."
   ]
  },
  {
   "cell_type": "markdown",
   "metadata": {},
   "source": [
    "## Fixed Parameters"
   ]
  },
  {
   "cell_type": "code",
   "execution_count": null,
   "metadata": {},
   "outputs": [],
   "source": [
    "B_D = 1e-3*ufloat(44, 0.5) # m, all bed's inner diameter\n",
    "water_rho = 998.2 # kg/m^3 @ 20 C\n",
    "water_mu = 1002*1e-6 # Pa*s @ 20 C"
   ]
  },
  {
   "cell_type": "markdown",
   "metadata": {},
   "source": [
    "## Void Fraction/Bed Porosity"
   ]
  },
  {
   "cell_type": "code",
   "execution_count": null,
   "metadata": {},
   "outputs": [],
   "source": [
    "B1_m = 1e-3*ufloat(585, 0.05) # kg, bed 1 mass\n",
    "B1_h = 1e-2*ufloat(46, 0.05) # m, bed 1 height\n",
    "B1_V = B1_h*np.pi/4*B_D**2 # m^3, bed 1 volume\n",
    "CuM_BV = B1_m/CuM_rho # m^3, volume of CuS in bed\n",
    "B1_phi = 1-CuM_BV/B1_V # Void Fraction\n",
    "\n",
    "B2_m = 1e-3*ufloat(1749.4, 0.05) # kg, bed 1 mass\n",
    "B2_h = 1e-2*ufloat(24, 0.05) # m, bed 1 height\n",
    "B2_V = B2_h*np.pi/4*B_D**2 # m^3, bed 1 volume\n",
    "CuS_BV = B2_m/CuS_rho # m^3, volume of CuM in bed\n",
    "B2_phi = 1-CuS_BV/B2_V # Void Fraction\n",
    "\n",
    "B3_m = 1e-3*ufloat(429.3, 0.05) # kg, bed 1 mass\n",
    "B3_h = 1e-2*ufloat(39, 0.05) # m, bed 1 height\n",
    "B3_V = B3_h*np.pi/4*B_D**2 # m^3, bed 1 volume\n",
    "CuL_BV = B3_m/CuL_rho # m^3, volume of CuL in bed\n",
    "B3_phi = 1-CuL_BV/B3_V # Void Fraction"
   ]
  },
  {
   "cell_type": "markdown",
   "metadata": {},
   "source": [
    "**Note** the map of Bed # to packing:\n",
    "* Bed 1: Cu(m)\n",
    "* Bed 2: Cu(s)\n",
    "* Bed 3: Cu(L)"
   ]
  },
  {
   "cell_type": "markdown",
   "metadata": {},
   "source": [
    "## Analyzing Bed 1: Cu(m)\n",
    "### Calibration Curve"
   ]
  },
  {
   "cell_type": "code",
   "execution_count": null,
   "metadata": {
    "scrolled": false
   },
   "outputs": [],
   "source": [
    "df_cal1.head()"
   ]
  },
  {
   "cell_type": "markdown",
   "metadata": {},
   "source": [
    "**Fitting procedure**\n",
    "```\n",
    "LGweights = 1/(df_agg['L/G - err']/np.mean(df_agg['L/G - err'])+\\\n",
    "               (df_agg['NTU - err']/np.mean(df_agg['NTU - err'])))\n",
    "LGfit, LGcov = curve_fit(NTULGfit, df_agg['L/G'], df_agg['NTU'],\n",
    "                        sigma = LGweights,\n",
    "                        absolute_sigma = True)\n",
    "LGfit_err = np.sqrt(np.diagonal(LGcov))\n",
    "```\n",
    "\n",
    "**Get fitted curve**\n",
    "```\n",
    "hs_Tdata = np.linspace(hs_T[0], hs_T[-1], 100)\n",
    "hs_hdata = hsat(hs_Tdata, *hsat_fit)\n",
    "hs_h_errp = hsat(hs_Tdata, *(hsat_fit+fit_err))\n",
    "hs_h_errn = hsat(hs_Tdata, *(hsat_fit-fit_err))\n",
    "```\n",
    "\n",
    "**For saving figures**\n",
    "```\n",
    "ax.set_aspect(1.0/ax.get_data_ratio())\n",
    "plt.savefig('Figures\\hsat fit.png', dpi=300)\n",
    "```"
   ]
  },
  {
   "cell_type": "code",
   "execution_count": null,
   "metadata": {},
   "outputs": [],
   "source": [
    "from scipy.optimize import curve_fit\n",
    "\n",
    "def linfit(x, a, b): return a*x+b\n",
    "\n",
    "def calibration_plot(x, y, dx, dy, plot=False):\n",
    "    \n",
    "    mean_dx = np.mean(dx)\n",
    "    mean_dy = np.mean(dy)\n",
    "    \n",
    "    weights = 1/(dx/mean_dx+dy/mean_dy)\n",
    "    \n",
    "    fit, cov = curve_fit(linfit, x, y, sigma=weights)\n",
    "    err = np.sqrt(np.diagonal(cov))\n",
    "    \n",
    "    xdata = np.linspace(min(x), max(x))\n",
    "    ydata = linfit(xdata, *fit)\n",
    "    errp = linfit(xdata, *(fit+err))\n",
    "    errn = linfit(xdata, *(fit-err))\n",
    "    \n",
    "    if plot:\n",
    "        plt.errorbar(x, y, dy, dx, 'ok',\n",
    "             markersize=3, markerfacecolor='w', label='data',\n",
    "             elinewidth=1\n",
    "            )\n",
    "        plt.plot(xdata, ydata, 'r-')\n",
    "        plt.fill_between(xdata, errp, errn, color='r', alpha=0.3)\n",
    "        return plt.gca(), fit, err\n",
    "    \n",
    "    return fit, err"
   ]
  },
  {
   "cell_type": "code",
   "execution_count": null,
   "metadata": {},
   "outputs": [],
   "source": [
    "x = unp.nominal_values(df_cal1['Q (gpm)'])\n",
    "y1 = unp.nominal_values(df_cal1['Left (cm)'])\n",
    "y2 = unp.nominal_values(df_cal1['Right (cm)'])\n",
    "dx = unp.std_devs(df_cal1['Q (gpm)'])\n",
    "dy1 = unp.std_devs(df_cal1['Left (cm)'])\n",
    "dy2 = unp.std_devs(df_cal1['Right (cm)'])"
   ]
  },
  {
   "cell_type": "markdown",
   "metadata": {},
   "source": [
    "Plotting cal. curve for left manometer"
   ]
  },
  {
   "cell_type": "code",
   "execution_count": null,
   "metadata": {
    "scrolled": true
   },
   "outputs": [],
   "source": [
    "ax, cal1L_fit, cal1L_err = calibration_plot(x, y1, dx, dy1, plot=True)\n",
    "plt.xlabel('Q (gpm)')\n",
    "plt.ylabel('Left Manometer (cm)')\n",
    "ax.set_aspect(1.0/ax.get_data_ratio());\n",
    "# plt.savefig('Figures\\Cal1 Left.png', dpi=300);"
   ]
  },
  {
   "cell_type": "code",
   "execution_count": null,
   "metadata": {},
   "outputs": [],
   "source": [
    "cal1L_fit = [ufloat(fit, err) for fit, err in zip(cal1L_fit, cal1L_err)]"
   ]
  },
  {
   "cell_type": "markdown",
   "metadata": {},
   "source": [
    "Plotting cal. curve for right manometer"
   ]
  },
  {
   "cell_type": "code",
   "execution_count": null,
   "metadata": {
    "scrolled": true
   },
   "outputs": [],
   "source": [
    "ax, cal1R_fit, cal1R_err = calibration_plot(x, y2, dx, dy2, plot=True)\n",
    "plt.xlabel('Q (gpm)')\n",
    "plt.ylabel('Right Manometer (cm)')\n",
    "ax.set_aspect(1.0/ax.get_data_ratio());\n",
    "# plt.savefig('Figures\\Cal1 Right.png', dpi=300);"
   ]
  },
  {
   "cell_type": "code",
   "execution_count": null,
   "metadata": {},
   "outputs": [],
   "source": [
    "cal1R_fit = [ufloat(fit, err) for fit, err in zip(cal1R_fit, cal1R_err)]"
   ]
  },
  {
   "cell_type": "markdown",
   "metadata": {},
   "source": [
    "### Use cal. curve to adjust Bed 1 measurements\n",
    "*Note that $h_l$ = Left - Right*"
   ]
  },
  {
   "cell_type": "code",
   "execution_count": null,
   "metadata": {},
   "outputs": [],
   "source": [
    "df_dat1['Left (cm)'] = df_dat1['Left (cm)'] - linfit(df_dat1['Q (gpm)'], *cal1L_fit)\n",
    "df_dat1['Right (cm)'] = df_dat1['Right (cm)'] - linfit(df_dat1['Q (gpm)'], *cal1R_fit)"
   ]
  },
  {
   "cell_type": "markdown",
   "metadata": {},
   "source": [
    "### Obtain and plot $\\text{Re}_d$ and $f_v$"
   ]
  },
  {
   "cell_type": "code",
   "execution_count": null,
   "metadata": {},
   "outputs": [],
   "source": [
    "df_dat1.head()"
   ]
  },
  {
   "cell_type": "markdown",
   "metadata": {},
   "source": [
    "Need $h_l$ and $u$ and to convert all units appropriately:\n",
    "* Q = m^3/s\n",
    "* h_l = meters\n",
    "* u = m/s"
   ]
  },
  {
   "cell_type": "code",
   "execution_count": null,
   "metadata": {},
   "outputs": [],
   "source": [
    "df_dat1['h_l'] = 1e-2*(df_dat1['Left (cm)'] - df_dat1['Right (cm)'])\n",
    "df_dat1['Q (m^3/s)'] = df_dat1['Q (gpm)']/15850.32314\n",
    "df_dat1['u'] = df_dat1['Q (m^3/s)']/(np.pi/4*B_D**2)\n",
    "df_dat1['Re'] = water_rho*CuM_D*df_dat1['u']/water_mu\n",
    "df_dat1['f_p'] = df_dat1['h_l']*CuM_D*9.81/(B1_h*df_dat1['u']**2)\n",
    "df_dat1['f_v'] = df_dat1['f_p']*B1_phi**3*df_dat1['Re']/(1-B1_phi)**2"
   ]
  },
  {
   "cell_type": "code",
   "execution_count": null,
   "metadata": {},
   "outputs": [],
   "source": [
    "x = unp.nominal_values(df_dat1['Re'])\n",
    "y = unp.nominal_values(df_dat1['f_v'])\n",
    "dx = unp.std_devs(df_dat1['Re'])\n",
    "dy = unp.std_devs(df_dat1['f_v'])\n",
    "\n",
    "fig1 = plt.figure()\n",
    "ax1 = fig1.add_subplot(111)\n",
    "plt.errorbar(x, y, dy, dx, 'k.',\n",
    "             markersize=3, markerfacecolor='w', label='Data',\n",
    "             elinewidth=1\n",
    "            )\n",
    "plt.xlabel('Re$_d$')\n",
    "plt.ylabel('f$_v$')\n",
    "ax1.set_aspect(1.0/ax1.get_data_ratio());"
   ]
  },
  {
   "cell_type": "markdown",
   "metadata": {},
   "source": [
    "### Plot Ergun, KTA, and best fit"
   ]
  },
  {
   "cell_type": "code",
   "execution_count": null,
   "metadata": {},
   "outputs": [],
   "source": [
    "def KTA(Re, phi):\n",
    "    return 160 + 3*(Re/(1-phi))**0.9\n",
    "def Erg(Re, phi):\n",
    "    return 150 + 1.75*Re/(1-phi)\n",
    "def PDfit1(Re, a, b): # Cu(m)\n",
    "    return 160 + a*(Re/(1-B1_phi.nominal_value))**b\n",
    "def PDfit2(Re, a, b): # Cu(s)\n",
    "    return 160 + a*(Re/(1-B2_phi.nominal_value))**b\n",
    "def PDfit3(Re, a, b): # Cu(L)\n",
    "    return 160 + a*(Re/(1-B3_phi.nominal_value))**b"
   ]
  },
  {
   "cell_type": "code",
   "execution_count": null,
   "metadata": {},
   "outputs": [],
   "source": [
    "def add_PDfit(fitfun, x, y, dx, dy, plot=False, ax=None):\n",
    "        \n",
    "    mean_dx = np.mean(dx)\n",
    "    mean_dy = np.mean(dy)\n",
    "    \n",
    "    weights = 1/(dx/mean_dx+dy/mean_dy)\n",
    "    \n",
    "    fit, cov = curve_fit(fitfun, x, y, sigma=weights, p0=[3, 0.9])\n",
    "    err = np.sqrt(np.diagonal(cov))\n",
    "    \n",
    "    xdata = np.linspace(min(x), max(x))\n",
    "    ydata = fitfun(xdata, *fit)\n",
    "    errp = fitfun(xdata, *(fit+err))\n",
    "    errn = fitfun(xdata, *(fit-err))\n",
    "    \n",
    "    if plot:\n",
    "        assert ax\n",
    "        ax.plot(xdata, ydata, 'k-', label='Best Fit')\n",
    "        ax.fill_between(xdata, errp, errn, color='k', alpha=0.1)\n",
    "        return fit, err\n",
    "    \n",
    "    return fit, err"
   ]
  },
  {
   "cell_type": "code",
   "execution_count": null,
   "metadata": {},
   "outputs": [],
   "source": [
    "x_ufloat = df_dat1['Re'].sort_values()\n",
    "x = unp.nominal_values(x_ufloat)"
   ]
  },
  {
   "cell_type": "code",
   "execution_count": null,
   "metadata": {},
   "outputs": [],
   "source": [
    "erg1 = Erg(x_ufloat, B1_phi)\n",
    "y = unp.nominal_values(erg1)\n",
    "dy = unp.std_devs(erg1)\n",
    "ax1.plot(x, y, 'b', label='Ergun')\n",
    "ax1.set_aspect(1.0/ax1.get_data_ratio());\n",
    "fig1"
   ]
  },
  {
   "cell_type": "code",
   "execution_count": null,
   "metadata": {},
   "outputs": [],
   "source": [
    "kta1 = KTA(x_ufloat, B1_phi)\n",
    "y = unp.nominal_values(kta1)\n",
    "dy = unp.std_devs(kta1)\n",
    "ax1.plot(x, y, 'r', label='KTA')\n",
    "ax1.set_aspect(1.0/ax1.get_data_ratio());\n",
    "fig1"
   ]
  },
  {
   "cell_type": "code",
   "execution_count": null,
   "metadata": {
    "scrolled": true
   },
   "outputs": [],
   "source": [
    "x = unp.nominal_values(df_dat1['Re'])\n",
    "y = unp.nominal_values(df_dat1['f_v'])\n",
    "dx = unp.std_devs(df_dat1['Re'])\n",
    "dy = unp.std_devs(df_dat1['f_v'])\n",
    "B1_fit, B1_err = add_PDfit(PDfit1, x, y, dx, dy, plot=True, ax=ax1)\n",
    "ax1.set_aspect(1.0/ax1.get_data_ratio())\n",
    "ax1.legend(loc='upper left')\n",
    "fig1.savefig('Figures/Bed 1 Cu(m).png', dpi=300);\n",
    "fig1"
   ]
  },
  {
   "cell_type": "code",
   "execution_count": null,
   "metadata": {},
   "outputs": [],
   "source": [
    "print('Coefficients of Bed 1 (Cu(m)) best fit line:')\n",
    "for i, valerr in enumerate(zip(B1_fit, B1_err)):\n",
    "    val, err = valerr\n",
    "    print(f'Coefficient {i}: {val} +/- {err}')"
   ]
  },
  {
   "cell_type": "markdown",
   "metadata": {},
   "source": [
    "# Repeat for Beds 2 & 3 (Cu(s) & Cu(L))"
   ]
  },
  {
   "cell_type": "markdown",
   "metadata": {},
   "source": [
    "### Calibration curve"
   ]
  },
  {
   "cell_type": "code",
   "execution_count": null,
   "metadata": {},
   "outputs": [],
   "source": [
    "x = unp.nominal_values(df_cal2['Q (gpm)'])\n",
    "y1 = unp.nominal_values(df_cal2['Left (cm)'])\n",
    "y2 = unp.nominal_values(df_cal2['Right (cm)'])\n",
    "dx = unp.std_devs(df_cal2['Q (gpm)'])\n",
    "dy1 = unp.std_devs(df_cal2['Left (cm)'])\n",
    "dy2 = unp.std_devs(df_cal2['Right (cm)'])\n",
    "ax, cal2L_fit, cal2L_err = calibration_plot(x, y1, dx, dy1, plot=True)\n",
    "plt.xlabel('Q (gpm)')\n",
    "plt.ylabel('Left Manometer (cm)')\n",
    "ax.set_aspect(1.0/ax.get_data_ratio())\n",
    "# plt.savefig('Figures\\cal2 Left.png', dpi=300)\n",
    "cal2L_fit = [ufloat(fit, err) for fit, err in zip(cal2L_fit, cal2L_err)];"
   ]
  },
  {
   "cell_type": "code",
   "execution_count": null,
   "metadata": {
    "scrolled": true
   },
   "outputs": [],
   "source": [
    "ax, cal2R_fit, cal2R_err = calibration_plot(x, y2, dx, dy2, plot=True)\n",
    "plt.xlabel('Q (gpm)')\n",
    "plt.ylabel('Right Manometer (cm)')\n",
    "ax.set_aspect(1.0/ax.get_data_ratio())\n",
    "# plt.savefig('Figures\\cal2 Right.png', dpi=300)\n",
    "cal2R_fit = [ufloat(fit, err) for fit, err in zip(cal2R_fit, cal2R_err)];"
   ]
  },
  {
   "cell_type": "code",
   "execution_count": null,
   "metadata": {},
   "outputs": [],
   "source": [
    "df_dat2['Left (cm)'] = df_dat2['Left (cm)'] - linfit(df_dat2['Q (gpm)'], *cal2L_fit)\n",
    "df_dat2['Right (cm)'] = df_dat2['Right (cm)'] - linfit(df_dat2['Q (gpm)'], *cal2R_fit)"
   ]
  },
  {
   "cell_type": "markdown",
   "metadata": {},
   "source": [
    "### Get non-packing specific parameters"
   ]
  },
  {
   "cell_type": "code",
   "execution_count": null,
   "metadata": {},
   "outputs": [],
   "source": [
    "df_dat2['h_l'] = 1e-2*(df_dat2['Left (cm)'] - df_dat2['Right (cm)'])\n",
    "df_dat2['Q (m^3/s)'] = df_dat2['Q (gpm)']/15850.32314\n",
    "df_dat2['u'] = df_dat2['Q (m^3/s)']/(np.pi/4*B_D**2)"
   ]
  },
  {
   "cell_type": "markdown",
   "metadata": {},
   "source": [
    "### Split day 2 trials into beds 2 & 3"
   ]
  },
  {
   "cell_type": "code",
   "execution_count": null,
   "metadata": {},
   "outputs": [],
   "source": [
    "df_dat3 = df_dat2[df_dat2['Packing'] == 'Cu(L)']\n",
    "df_dat2 = df_dat2[df_dat2['Packing'] == 'Cu(s)']"
   ]
  },
  {
   "cell_type": "markdown",
   "metadata": {},
   "source": [
    "## Analyzing Bed 2: Cu(S)\n",
    "### Obtain and plot $\\text{Re}_d$ and $f_v$"
   ]
  },
  {
   "cell_type": "code",
   "execution_count": null,
   "metadata": {},
   "outputs": [],
   "source": [
    "df_dat2['Re'] = water_rho*CuS_D*df_dat2['u']/water_mu\n",
    "df_dat2['f_p'] = df_dat2['h_l']*CuS_D*9.81/(B2_h*df_dat2['u']**2)\n",
    "df_dat2['f_v'] = df_dat2['f_p']*B2_phi**3*df_dat2['Re']/(1-B2_phi)**2"
   ]
  },
  {
   "cell_type": "code",
   "execution_count": null,
   "metadata": {},
   "outputs": [],
   "source": [
    "x = unp.nominal_values(df_dat2['Re'])\n",
    "y = unp.nominal_values(df_dat2['f_v'])\n",
    "dx = unp.std_devs(df_dat2['Re'])\n",
    "dy = unp.std_devs(df_dat2['f_v'])\n",
    "plt.errorbar(x, y, dy, dx, 'k.',\n",
    "             markersize=3, markerfacecolor='w', label='Data',\n",
    "             elinewidth=1\n",
    "            )\n",
    "plt.xlabel('Re$_d$')\n",
    "plt.ylabel('f$_v$')\n",
    "fig = plt.gcf()\n",
    "ax = plt.gca()\n",
    "ax.set_aspect(1.0/ax.get_data_ratio());"
   ]
  },
  {
   "cell_type": "code",
   "execution_count": null,
   "metadata": {},
   "outputs": [],
   "source": [
    "x_ufloat = df_dat2['Re'].sort_values()\n",
    "x = unp.nominal_values(x_ufloat)"
   ]
  },
  {
   "cell_type": "code",
   "execution_count": null,
   "metadata": {},
   "outputs": [],
   "source": [
    "erg1 = Erg(x_ufloat, B2_phi)\n",
    "y = unp.nominal_values(erg1)\n",
    "dy = unp.std_devs(erg1)\n",
    "ax.plot(x, y, 'b', label='Ergun')\n",
    "ax.set_aspect(1.0/ax.get_data_ratio());\n",
    "fig"
   ]
  },
  {
   "cell_type": "code",
   "execution_count": null,
   "metadata": {},
   "outputs": [],
   "source": [
    "kta1 = KTA(x_ufloat, B2_phi)\n",
    "y = unp.nominal_values(kta1)\n",
    "dy = unp.std_devs(kta1)\n",
    "ax.plot(x, y, 'r', label='KTA')\n",
    "ax.set_aspect(1.0/ax.get_data_ratio());\n",
    "fig"
   ]
  },
  {
   "cell_type": "code",
   "execution_count": null,
   "metadata": {
    "scrolled": true
   },
   "outputs": [],
   "source": [
    "x = unp.nominal_values(df_dat2['Re'])\n",
    "y = unp.nominal_values(df_dat2['f_v'])\n",
    "dx = unp.std_devs(df_dat2['Re'])\n",
    "dy = unp.std_devs(df_dat2['f_v'])\n",
    "B2_fit, B2_err = add_PDfit(PDfit2, x, y, dx, dy, plot=True, ax=ax)\n",
    "ax.set_aspect(1.0/ax.get_data_ratio())\n",
    "ax.legend(loc='upper left');\n",
    "fig.savefig('Figures/Bed 2 Cu(s).png', dpi=300);\n",
    "fig"
   ]
  },
  {
   "cell_type": "code",
   "execution_count": null,
   "metadata": {},
   "outputs": [],
   "source": [
    "print('Coefficients of Bed 2 (Cu(s)) best fit line:')\n",
    "for i, valerr in enumerate(zip(B2_fit, B2_err)):\n",
    "    val, err = valerr\n",
    "    print(f'Coefficient {i}: {val} +/- {err}')"
   ]
  },
  {
   "cell_type": "markdown",
   "metadata": {},
   "source": [
    "## Analyzing Bed 3: Cu(L)"
   ]
  },
  {
   "cell_type": "code",
   "execution_count": null,
   "metadata": {},
   "outputs": [],
   "source": [
    "df_dat3['Re'] = water_rho*CuL_D*df_dat3['u']/water_mu\n",
    "df_dat3['f_p'] = df_dat3['h_l']*CuL_D*9.81/(B3_h*df_dat3['u']**2)\n",
    "df_dat3['f_v'] = df_dat3['f_p']*B3_phi**3*df_dat3['Re']/(1-B3_phi)**2"
   ]
  },
  {
   "cell_type": "code",
   "execution_count": null,
   "metadata": {},
   "outputs": [],
   "source": [
    "x = unp.nominal_values(df_dat3['Re'])\n",
    "y = unp.nominal_values(df_dat3['f_v'])\n",
    "dx = unp.std_devs(df_dat3['Re'])\n",
    "dy = unp.std_devs(df_dat3['f_v'])\n",
    "plt.errorbar(x, y, dy, dx, 'k.',\n",
    "             markersize=3, markerfacecolor='w', label='Data',\n",
    "             elinewidth=1\n",
    "            )\n",
    "plt.xlabel('Re$_d$')\n",
    "plt.ylabel('f$_v$')\n",
    "fig = plt.gcf()\n",
    "ax = plt.gca()\n",
    "ax.set_aspect(1.0/ax.get_data_ratio());"
   ]
  },
  {
   "cell_type": "code",
   "execution_count": null,
   "metadata": {},
   "outputs": [],
   "source": [
    "x_ufloat = df_dat3['Re'].sort_values()\n",
    "x = unp.nominal_values(x_ufloat)"
   ]
  },
  {
   "cell_type": "code",
   "execution_count": null,
   "metadata": {},
   "outputs": [],
   "source": [
    "erg1 = Erg(x_ufloat, B3_phi)\n",
    "y = unp.nominal_values(erg1)\n",
    "dy = unp.std_devs(erg1)\n",
    "ax.plot(x, y, 'b', label='Ergun')\n",
    "ax.set_aspect(1.0/ax.get_data_ratio());\n",
    "fig"
   ]
  },
  {
   "cell_type": "code",
   "execution_count": null,
   "metadata": {},
   "outputs": [],
   "source": [
    "kta1 = KTA(x_ufloat, B3_phi)\n",
    "y = unp.nominal_values(kta1)\n",
    "dy = unp.std_devs(kta1)\n",
    "ax.plot(x, y, 'r', label='KTA')\n",
    "ax.set_aspect(1.0/ax.get_data_ratio());\n",
    "fig"
   ]
  },
  {
   "cell_type": "code",
   "execution_count": null,
   "metadata": {
    "scrolled": true
   },
   "outputs": [],
   "source": [
    "x = unp.nominal_values(df_dat3['Re'])\n",
    "y = unp.nominal_values(df_dat3['f_v'])\n",
    "dx = unp.std_devs(df_dat3['Re'])\n",
    "dy = unp.std_devs(df_dat3['f_v'])\n",
    "B3_fit, B3_err = add_PDfit(PDfit3, x, y, dx, dy, plot=True, ax=ax)\n",
    "ax.set_aspect(1.0/ax.get_data_ratio())\n",
    "ax.legend(loc='upper left');\n",
    "fig.savefig('Figures/Bed 3 Cu(L).png', dpi=300);\n",
    "fig"
   ]
  },
  {
   "cell_type": "code",
   "execution_count": null,
   "metadata": {
    "scrolled": true
   },
   "outputs": [],
   "source": [
    "print('Coefficients of Bed 3 (Cu(L)) best fit line:')\n",
    "for i, valerr in enumerate(zip(B1_fit, B1_err)):\n",
    "    val, err = valerr\n",
    "    print(f'Coefficient {i}: {val} +/- {err}')"
   ]
  }
 ],
 "metadata": {
  "kernelspec": {
   "display_name": "Python 3.8.1 64-bit",
   "language": "python",
   "name": "python38164bit26ec8dace3434765add4cc87e93c1379"
  },
  "language_info": {
   "codemirror_mode": {
    "name": "ipython",
    "version": 3
   },
   "file_extension": ".py",
   "mimetype": "text/x-python",
   "name": "python",
   "nbconvert_exporter": "python",
   "pygments_lexer": "ipython3",
   "version": "3.8.1"
  }
 },
 "nbformat": 4,
 "nbformat_minor": 4
}
