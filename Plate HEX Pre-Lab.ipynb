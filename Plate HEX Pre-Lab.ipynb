{
 "cells": [
  {
   "cell_type": "markdown",
   "metadata": {},
   "source": [
    "David Laub A13026162  \n",
    "Section A00, Team 12, Lab 3"
   ]
  },
  {
   "cell_type": "markdown",
   "metadata": {},
   "source": [
    "# Plate Heat Exchanger Pre-Lab\n",
    "Suppose a plate heat exchanger has a total of nine plates. Each plate is 30 cm wide, 10 cm tall, and the separation between plates is 1 cm. The total flow of hot water is $1\\ \\text{L}\\ \\text{s}^{-1}$, and the total flow of cold water is $2\\ \\text{L}\\ \\text{s}^{-1}$.\n",
    "1. Provide a formula to calculate the heat capacity $C_p$ of liquid water at any temperature from 20 $^\\circ$C to 80 $^\\circ$C (hint: the NIST Thermophysical Properties of Fluid Systems database is extensive, and you could fit a polynomial equation to the data provided).\n",
    "2. Repeat the previous question for density $\\rho$, thermal conductivity k, and viscosity $\\mu$.\n",
    "3. Use the formulae from the previous two problems to calculate the Prandtl number Pr of water at 55 $^\\circ$C.\n",
    "4. If there are equal numbers of hot and cold fluid channels, how many channels of hot and cold are there?\n",
    "5. What is the total area available for heat transfer?\n",
    "6. What is the Reynolds number inside one of the cold channels? Evaluate fluid properties at 35 $^\\circ$C, the average of the cold stream inlet and outlet temperatures."
   ]
  },
  {
   "cell_type": "markdown",
   "metadata": {},
   "source": [
    "### Import libraries"
   ]
  },
  {
   "cell_type": "code",
   "execution_count": 1,
   "metadata": {},
   "outputs": [],
   "source": [
    "import pandas as pd\n",
    "import numpy as np\n",
    "import numpy.polynomial.polynomial as poly\n",
    "import matplotlib.pyplot as plt"
   ]
  },
  {
   "cell_type": "markdown",
   "metadata": {},
   "source": [
    "### Getting NIST data\n",
    "\n",
    "Assumed the plate heat exchanger operates isobarically at or near 1 atm.  \n",
    "Units:\n",
    "- Temperature ($^\\circ \\text{C}$)\n",
    "- Density ($\\text{kg}/\\text{m}^{-3}$)\n",
    "- Cp ($\\text{J}/\\text{g}\\cdot \\text{K}$)\n",
    "- Viscosity ($\\text{Pa}\\cdot \\text{s}$)\n",
    "- Therm. Cond. ($\\text{W}/\\text{m}\\cdot \\text{K}$)"
   ]
  },
  {
   "cell_type": "code",
   "execution_count": 2,
   "metadata": {},
   "outputs": [
    {
     "data": {
      "text/html": [
       "<div>\n",
       "<style scoped>\n",
       "    .dataframe tbody tr th:only-of-type {\n",
       "        vertical-align: middle;\n",
       "    }\n",
       "\n",
       "    .dataframe tbody tr th {\n",
       "        vertical-align: top;\n",
       "    }\n",
       "\n",
       "    .dataframe thead th {\n",
       "        text-align: right;\n",
       "    }\n",
       "</style>\n",
       "<table border=\"1\" class=\"dataframe\">\n",
       "  <thead>\n",
       "    <tr style=\"text-align: right;\">\n",
       "      <th></th>\n",
       "      <th>T</th>\n",
       "      <th>rho</th>\n",
       "      <th>Cp</th>\n",
       "      <th>mu</th>\n",
       "      <th>k</th>\n",
       "    </tr>\n",
       "  </thead>\n",
       "  <tbody>\n",
       "    <tr>\n",
       "      <th>0</th>\n",
       "      <td>20.0</td>\n",
       "      <td>998.21</td>\n",
       "      <td>4.1841</td>\n",
       "      <td>0.001002</td>\n",
       "      <td>0.59846</td>\n",
       "    </tr>\n",
       "    <tr>\n",
       "      <th>1</th>\n",
       "      <td>20.1</td>\n",
       "      <td>998.19</td>\n",
       "      <td>4.1840</td>\n",
       "      <td>0.000999</td>\n",
       "      <td>0.59864</td>\n",
       "    </tr>\n",
       "    <tr>\n",
       "      <th>2</th>\n",
       "      <td>20.2</td>\n",
       "      <td>998.17</td>\n",
       "      <td>4.1839</td>\n",
       "      <td>0.000997</td>\n",
       "      <td>0.59882</td>\n",
       "    </tr>\n",
       "    <tr>\n",
       "      <th>3</th>\n",
       "      <td>20.3</td>\n",
       "      <td>998.14</td>\n",
       "      <td>4.1838</td>\n",
       "      <td>0.000994</td>\n",
       "      <td>0.59900</td>\n",
       "    </tr>\n",
       "    <tr>\n",
       "      <th>4</th>\n",
       "      <td>20.4</td>\n",
       "      <td>998.12</td>\n",
       "      <td>4.1838</td>\n",
       "      <td>0.000992</td>\n",
       "      <td>0.59917</td>\n",
       "    </tr>\n",
       "  </tbody>\n",
       "</table>\n",
       "</div>"
      ],
      "text/plain": [
       "      T     rho      Cp        mu        k\n",
       "0  20.0  998.21  4.1841  0.001002  0.59846\n",
       "1  20.1  998.19  4.1840  0.000999  0.59864\n",
       "2  20.2  998.17  4.1839  0.000997  0.59882\n",
       "3  20.3  998.14  4.1838  0.000994  0.59900\n",
       "4  20.4  998.12  4.1838  0.000992  0.59917"
      ]
     },
     "execution_count": 2,
     "metadata": {},
     "output_type": "execute_result"
    }
   ],
   "source": [
    "df = pd.read_csv('NIST Water Data.txt', sep='\\t')\n",
    "to_drop = ['Pressure (atm)',\n",
    "           'Volume (m3/kg)',\n",
    "           'Internal Energy (kJ/kg)',\n",
    "           'Enthalpy (kJ/kg)',\n",
    "           'Entropy (J/g*K)',\n",
    "           'Cv (J/g*K)',\n",
    "           'Sound Spd. (m/s)',\n",
    "           'Joule-Thomson (F/atm)',\n",
    "           'Phase'\n",
    "          ]\n",
    "df.drop(columns=to_drop, inplace=True)\n",
    "new_labels = {'Temperature (C)': 'T',\n",
    "              'Density (kg/m3)': 'rho',\n",
    "              'Cp (J/g*K)': 'Cp',\n",
    "              'Viscosity (Pa*s)': 'mu',\n",
    "              'Therm. Cond. (W/m*K)': 'k'\n",
    "             }\n",
    "df.rename(columns=new_labels, inplace=True)\n",
    "df.head()"
   ]
  },
  {
   "cell_type": "markdown",
   "metadata": {},
   "source": [
    "### Getting polynomial correlations for $C_p$, $\\rho$, $k$, and $\\mu$\n",
    "Computed for a minimum $r^2$ of 0.999"
   ]
  },
  {
   "cell_type": "code",
   "execution_count": 3,
   "metadata": {},
   "outputs": [
    {
     "data": {
      "image/png": "[encoded data removed]",
      "text/plain": [
       "<Figure size 432x288 with 4 Axes>"
      ]
     },
     "metadata": {
      "needs_background": "light"
     },
     "output_type": "display_data"
    }
   ],
   "source": [
    "fig, ax = plt.subplots(2, 2, sharex=True)\n",
    "ax[0, 0].plot('T', 'rho', data=df)\n",
    "ax[0, 1].plot('T', 'Cp', data=df)\n",
    "ax[1, 0].plot('T', 'mu', data=df)\n",
    "ax[1, 1].plot('T', 'k', '', data=df)\n",
    "\n",
    "ax[0, 0].set(ylabel='$\\\\rho$')\n",
    "ax[0, 1].set(ylabel='$C_p$')\n",
    "ax[1, 0].set(xlabel='Temperature $^\\circ$C', ylabel='$\\mu$')\n",
    "ax[1, 1].set(xlabel='Temperature $^\\circ$C', ylabel='k')\n",
    "\n",
    "fig.tight_layout()\n",
    "plt.show()"
   ]
  },
  {
   "cell_type": "markdown",
   "metadata": {},
   "source": [
    "From these plots, a polynomial fit seems appropriate."
   ]
  },
  {
   "cell_type": "code",
   "execution_count": 4,
   "metadata": {},
   "outputs": [
    {
     "name": "stdout",
     "output_type": "stream",
     "text": [
      "[0.99994875]\n",
      "poly([988.04244564 -13.35569002  -3.02396254])\n"
     ]
    }
   ],
   "source": [
    "rho, dnostic = poly.Polynomial.fit(df['T'], df['rho'], 2, full=True)\n",
    "SSres = dnostic[0]\n",
    "SStot = np.sum((df['rho']-df['rho'].mean())**2)\n",
    "r2 = 1 - SSres/SStot\n",
    "print(r2)\n",
    "print(rho)"
   ]
  },
  {
   "cell_type": "code",
   "execution_count": 5,
   "metadata": {},
   "outputs": [
    {
     "name": "stdout",
     "output_type": "stream",
     "text": [
      "[0.99924893]\n",
      "poly([ 4.18119695e+00  8.62859272e-03  8.80708732e-03 -2.19996557e-03])\n"
     ]
    }
   ],
   "source": [
    "Cp, dnostic = poly.Polynomial.fit(df['T'], df['Cp'], 3, full=True)\n",
    "SSres = dnostic[0]\n",
    "SStot = np.sum((df['Cp']-df['Cp'].mean())**2)\n",
    "r2 = 1 - SSres/SStot\n",
    "print(r2)\n",
    "print(Cp)"
   ]
  },
  {
   "cell_type": "code",
   "execution_count": 6,
   "metadata": {},
   "outputs": [
    {
     "name": "stdout",
     "output_type": "stream",
     "text": [
      "[0.99993844]\n",
      "poly([ 5.45336315e-04 -2.73590520e-04  1.28390407e-04 -4.91994709e-05])\n"
     ]
    }
   ],
   "source": [
    "mu, dnostic = poly.Polynomial.fit(df['T'], df['mu'], 3, full=True)\n",
    "SSres = dnostic[0]\n",
    "SStot = np.sum((df['mu']-df['mu'].mean())**2)\n",
    "r2 = 1 - SSres/SStot\n",
    "print(r2)\n",
    "print(mu)"
   ]
  },
  {
   "cell_type": "code",
   "execution_count": 7,
   "metadata": {},
   "outputs": [
    {
     "name": "stdout",
     "output_type": "stream",
     "text": [
      "[0.99999535]\n",
      "poly([ 0.64355239  0.03573395 -0.00942611])\n"
     ]
    }
   ],
   "source": [
    "k, dnostic = poly.Polynomial.fit(df['T'], df['k'], 2, full=True)\n",
    "SSres = dnostic[0]\n",
    "SStot = np.sum((df['k']-df['k'].mean())**2)\n",
    "r2 = 1 - SSres/SStot\n",
    "print(r2)\n",
    "print(k)"
   ]
  },
  {
   "cell_type": "markdown",
   "metadata": {},
   "source": [
    "### 1, 2. Correlations for $C_p$, $\\rho$, $k$, and $\\mu$\n",
    "$\\rho(T) = 988.04244564 - 13.35569002T - 3.02396254T^2$\n",
    "\n",
    "$C_p(T) = 4.18119695 + 8.62859272\\times 10^{-3}T + 8.80708732e\\times 10^{-3}T^2 - 2.19996557\\times 10^{-3}T^3$\n",
    "\n",
    "$\\mu(T) = 5.45336315e-04 - 2.73590520\\times 10^{-4}T + 1.28390407\\times 10^{-4}T^2 - 4.91994709\\times 10^{-5}T^3$\n",
    "\n",
    "$k(T) = 0.64355239 + 0.03573395T - 0.00942611T^2$"
   ]
  },
  {
   "cell_type": "markdown",
   "metadata": {},
   "source": [
    "### Getting Prandtl number at 55 $^\\circ$C\n",
    "$$ \\text{Pr} = \\frac{C_p\\mu}{k} $$"
   ]
  },
  {
   "cell_type": "code",
   "execution_count": 8,
   "metadata": {},
   "outputs": [
    {
     "name": "stdout",
     "output_type": "stream",
     "text": [
      "0.003241148555031628\n"
     ]
    }
   ],
   "source": [
    "Pr = Cp(55)*mu(55)/k(55)\n",
    "print(Pr)"
   ]
  },
  {
   "cell_type": "markdown",
   "metadata": {},
   "source": [
    "### 3. Prandtl number at 55 $^\\circ$C\n",
    "$ \\text{Pr}_{55} = 3.2411\\times 10^{-3}$"
   ]
  },
  {
   "cell_type": "markdown",
   "metadata": {},
   "source": [
    "### 4. Hot and cold fluid channels\n",
    "There are 9 plates, so 10 channels total. There are 5 channels of hot and cold fluid each."
   ]
  },
  {
   "cell_type": "markdown",
   "metadata": {},
   "source": [
    "### 5. Total area for heat transfer\n",
    "With 10 channels, there are 9 interfaces between hot and cold in the HEX. Each plate has $ 0.3 \\cdot 0.1 = 0.03\\ \\text{m}^2$ of surface area. With 9 interfaces, this means there is $0.27\\ \\text{m}^2$ of total surface area available for heat transfer."
   ]
  },
  {
   "cell_type": "markdown",
   "metadata": {},
   "source": [
    "### Getting Reynolds number at 35 $^\\circ$C\n",
    "$$ \\text{Re} = \\frac{\\rho uL}{\\mu} $$\n",
    "\n",
    "Will need:\n",
    "1. The flow velocity $u$ from volumetric flow $\\dot{V}$ $$ u = \\frac{\\dot{V}}{A} $$ where A is the cross-sectional area of a channel.\n",
    "\n",
    "2. The characteristic length L for a rectangular channel $$ L = \\frac{4A}{P} $$ where A is the cross-sectional area and P is the perimeter."
   ]
  },
  {
   "cell_type": "code",
   "execution_count": 9,
   "metadata": {},
   "outputs": [
    {
     "name": "stdout",
     "output_type": "stream",
     "text": [
      "17803.605924469335\n"
     ]
    }
   ],
   "source": [
    "V_cold = 2*10**-3\n",
    "A = 0.3*0.01\n",
    "P = 2*.3+2*.01\n",
    "\n",
    "u_cold = V_cold/A\n",
    "L = 4*A/P\n",
    "Re = rho(35)*u_cold*L/mu(35)\n",
    "\n",
    "print(Re)"
   ]
  },
  {
   "cell_type": "markdown",
   "metadata": {},
   "source": [
    "### 6. Reynolds number at 35 $^\\circ$C\n",
    "$ \\text{Re}_{35} = 17,804$"
   ]
  }
 ],
 "metadata": {
  "kernelspec": {
   "display_name": "Python 3.8.1 64-bit",
   "language": "python",
   "name": "python38164bit26ec8dace3434765add4cc87e93c1379"
  },
  "language_info": {
   "codemirror_mode": {
    "name": "ipython",
    "version": 3
   },
   "file_extension": ".py",
   "mimetype": "text/x-python",
   "name": "python",
   "nbconvert_exporter": "python",
   "pygments_lexer": "ipython3",
   "version": "3.8.1"
  }
 },
 "nbformat": 4,
 "nbformat_minor": 4
}
